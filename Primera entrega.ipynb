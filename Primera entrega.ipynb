{
  "nbformat": 4,
  "nbformat_minor": 0,
  "metadata": {
    "colab": {
      "name": "assignment01.ipynb",
      "provenance": [],
      "include_colab_link": true
    },
    "kernelspec": {
      "name": "python3",
      "display_name": "Python 3"
    },
    "language_info": {
      "name": "python"
    }
  },
  "cells": [
    {
      "cell_type": "markdown",
      "metadata": {
        "id": "view-in-github",
        "colab_type": "text"
      },
      "source": [
        "<a href=\"https://colab.research.google.com/github/PosgradoMNA/actividades-del-projecto-equipo-4/blob/main/Primera%20entrega.ipynb\" target=\"_parent\"><img src=\"https://colab.research.google.com/assets/colab-badge.svg\" alt=\"Open In Colab\"/></a>"
      ]
    },
    {
      "cell_type": "code",
      "execution_count": null,
      "metadata": {
        "id": "LzUSMM79NR9P",
        "outputId": "0e6cb421-1096-426a-b31a-f61d059def81",
        "colab": {
          "base_uri": "https://localhost:8080/"
        }
      },
      "outputs": [
        {
          "output_type": "stream",
          "name": "stdout",
          "text": [
            "assignment01 for GitJobish03 and edited in git, and 18\n"
          ]
        }
      ],
      "source": [
        "print('assignment01 for GitJobish03 and edited in git, and 18')"
      ]
    },
    {
      "cell_type": "markdown",
      "source": [
        "# Tarea 1\n",
        "El nombre que caracteriza el conjunto de datos.\n",
        "\n",
        "    Air Polltion level on citys around the world\n",
        "\n",
        "La organización que lo generó.\n",
        "\n",
        "    Kaggle \n",
        "Incluya un enlace de Internet donde se puedan descargar en línea y enviar como una hoja de cálculo junto con su informe correspondiente.\n",
        "\n",
        "    https://www.kaggle.com/datasets/totoro29/air-pollution-level?resource=download\n",
        "Describe el conjunto de datos. ¿Qué datos contiene?\n",
        "\n",
        "     Contiene 10 columnas ccon los siguientes nombres dandonos a conocer el nivel de  contaminacion aerea del globo \n",
        "\n",
        "\n",
        "    Country Name - nombre del pais\n",
        "\n",
        "    City - Ciudad\n",
        "\n",
        "    Year -  Año en que se obtuvo la ultima medicion\n",
        "\n",
        "    PM2.5 (μg/m3) -  particulas 2.5 por metro cubico\n",
        "\n",
        "    PM10 (μg/m3) -  particules 10 por metro cubico\n",
        "\n",
        "    NO2 (μg/m3) - Nitrogeno por metro cubico\n",
        "\n",
        "    PM2.5 temporal coverage (%) - paticula 2.5 en porcentaje\n",
        "\n",
        "    PM10 temporal coverage (%) - particula 10 en porcentaje\n",
        "\n",
        "    NO2 temporal coverage (%)-  Dioxido de nitrogeno en porcentaje\n",
        "\n",
        "    Updated Year - año en que se actualizo \n",
        "\n",
        "¿Cuáles son algunas de las preguntas de investigación que podría responder con estos datos? Enumere al menos OCHO (no responda las preguntas).\n",
        "\n",
        "    ¿Cuál es el pais mas afectado por la contaminacion? \n",
        "\n",
        "    ¿Cuál es el estado mas contaminado del mundo?\n",
        "\n",
        "    ¿Cuál es el mejor lugar para vivir?\n",
        "\n",
        "    ¿Cuál es el pais con mejor calidad del aire? \n",
        "\n",
        "    ¿Las medidas ecologicas impuestas por los paises funcionan?\n",
        "\n",
        "    ¿Cómo afecta la industria a la salud de la poblacion?\n",
        "\n",
        "    ¿Las ciudades con mayor industria son mas contaminantes?\n",
        "\n",
        "    ¿Cómo afectan las cordilleras y montañas a la calidad del aire?\n",
        "\n",
        "\n",
        "\n",
        "\n",
        "¿Qué actor (empresa, sector de la sociedad, organismo descentralizado, gobierno, etc.) estaría interesado en las preguntas mencionadas que identificó\n",
        "\n",
        "    Los Gobiernos locales y nacionales asi como organizaciones como la ONU \n",
        "\n",
        "\n"
      ],
      "metadata": {
        "id": "u_k2HEaFHwg2"
      }
    }
  ]
}