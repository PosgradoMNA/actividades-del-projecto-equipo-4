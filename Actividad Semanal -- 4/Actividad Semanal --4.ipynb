{
 "cells": [
  {
   "cell_type": "markdown",
   "source": [
    "###\n",
    "Datos generales:\n",
    "Nombre de la entrega: Semana 4- Actividad 2\n",
    "Nombre: Rodrigo Rodriguez Rodriguez\n",
    "Matrícula: A01183284\n",
    "Nombre: Abraham Rincón Treviño\n",
    "Matrícula: A00819677\n",
    "Materia:Ciencia y analítica de datos (Gpo 10)\n",
    "Profesor:Jobish Vallikavungal Devassia\n",
    "Fecha:06/10/2022\n",
    "###"
   ],
   "metadata": {
    "collapsed": false
   }
  },
  {
   "cell_type": "code",
   "execution_count": 1333,
   "metadata": {
    "collapsed": true
   },
   "outputs": [],
   "source": [
    "import pandas as pd\n",
    "import numpy as np"
   ]
  },
  {
   "cell_type": "code",
   "execution_count": 1334,
   "outputs": [],
   "source": [
    "#para tabajar cloud\n",
    "#Cards = 'https://raw.githubusercontent.com/PosgradoMNA/Actividades_Aprendizaje-/main/default%20of%20credit%20card%20clients.csv'"
   ],
   "metadata": {
    "collapsed": false
   }
  },
  {
   "cell_type": "code",
   "execution_count": 1335,
   "outputs": [],
   "source": [
    "#trabajo local Con matriz limpia sin valores nand\n",
    "Cards = r'Cards Clean.csv'"
   ],
   "metadata": {
    "collapsed": false
   }
  },
  {
   "cell_type": "code",
   "execution_count": 1336,
   "outputs": [],
   "source": [
    "Cards_df = pd.read_csv(Cards)\n",
    "df = Cards_df.copy()\n",
    "#df"
   ],
   "metadata": {
    "collapsed": false
   }
  },
  {
   "cell_type": "code",
   "execution_count": 1337,
   "outputs": [],
   "source": [
    "#df.to_csv (r'creditcardexperts.csv', index = False, header=True)"
   ],
   "metadata": {
    "collapsed": false
   }
  },
  {
   "cell_type": "code",
   "execution_count": 1338,
   "outputs": [
    {
     "data": {
      "text/plain": "(24622, 24)"
     },
     "execution_count": 1338,
     "metadata": {},
     "output_type": "execute_result"
    }
   ],
   "source": [
    "df.shape"
   ],
   "metadata": {
    "collapsed": false
   }
  },
  {
   "cell_type": "markdown",
   "source": [
    "Previo a iniciar el analisis debemos de normalizar todos los datos por lo que debemos bormalizar X1 y x12 en adelente"
   ],
   "metadata": {
    "collapsed": false
   }
  },
  {
   "cell_type": "code",
   "execution_count": 1339,
   "outputs": [],
   "source": [
    "def normalize(x):\n",
    "    min = np.min(x)\n",
    "    max = np.max(x)\n",
    "    range = max - min\n",
    "    return [((a - min) / range).round(2) for a in x]"
   ],
   "metadata": {
    "collapsed": false
   }
  },
  {
   "cell_type": "code",
   "execution_count": 1340,
   "outputs": [
    {
     "name": "stdout",
     "output_type": "stream",
     "text": [
      "1000000\n",
      "10000\n"
     ]
    }
   ],
   "source": [
    "MAX=np.max(df.X1)\n",
    "MIN=np.min(df.X1)\n",
    "print(MAX)\n",
    "print(MIN)"
   ],
   "metadata": {
    "collapsed": false
   }
  },
  {
   "cell_type": "code",
   "execution_count": 1341,
   "outputs": [],
   "source": [
    "dfX1=df.X1"
   ],
   "metadata": {
    "collapsed": false
   }
  },
  {
   "cell_type": "code",
   "execution_count": 1342,
   "outputs": [],
   "source": [
    "dft= dfX1.copy()\n",
    "normalizedValues = normalize(dft)\n",
    "dft=normalizedValues\n",
    "#print(normalizedValues)"
   ],
   "metadata": {
    "collapsed": false
   }
  },
  {
   "cell_type": "code",
   "execution_count": 1343,
   "outputs": [
    {
     "name": "stdout",
     "output_type": "stream",
     "text": [
      "0.0\n",
      "1.0\n"
     ]
    }
   ],
   "source": [
    "print(min(normalizedValues))\n",
    "print(max(normalizedValues))"
   ],
   "metadata": {
    "collapsed": false
   }
  },
  {
   "cell_type": "code",
   "execution_count": 1344,
   "outputs": [],
   "source": [
    "dfX5=df.X5\n",
    "df5= dfX5.copy()\n",
    "normalizedValues = normalize(df5)\n",
    "df5=normalizedValues\n"
   ],
   "metadata": {
    "collapsed": false
   }
  },
  {
   "cell_type": "code",
   "execution_count": 1345,
   "outputs": [
    {
     "name": "stdout",
     "output_type": "stream",
     "text": [
      "          ID    X1   X2   X3   X4    X5   X6   X7   X8   X9  ...       X14  \\\n",
      "0          2  0.11  2.0  2.0  2.0  0.09 -1.0  2.0 -1.0 -1.0  ...    2682.0   \n",
      "1          3  0.08  2.0  2.0  2.0  0.22 -1.0 -1.0 -1.0 -1.0  ...   13559.0   \n",
      "2          4  0.04  2.0  2.0  1.0  0.28 -1.0 -1.0 -1.0 -1.0  ...   49291.0   \n",
      "3          5  0.04  1.0  2.0  1.0  0.62 -1.0 -1.0 -1.0 -1.0  ...   35835.0   \n",
      "4          6  0.04  1.0  1.0  2.0  0.28 -1.0 -1.0 -1.0 -1.0  ...   57608.0   \n",
      "...      ...   ...  ...  ...  ...   ...  ...  ...  ...  ...  ...       ...   \n",
      "24617  29995  0.07  1.0  2.0  2.0  0.22  2.0  2.0  2.0  2.0  ...   79384.0   \n",
      "24618  29996  0.21  1.0  3.0  1.0  0.31 -1.0 -1.0 -1.0 -1.0  ...  208365.0   \n",
      "24619  29998  0.02  1.0  2.0  2.0  0.28  4.0  3.0  2.0 -1.0  ...    2758.0   \n",
      "24620  29999  0.07  1.0  3.0  1.0  0.34  1.0 -1.0 -1.0 -1.0  ...   76304.0   \n",
      "24621  30000  0.04  1.0  2.0  1.0  0.43 -1.0 -1.0 -1.0 -1.0  ...   49764.0   \n",
      "\n",
      "           X15      X16      X17      X18      X19      X20     X21      X22  \\\n",
      "0       3272.0   3455.0   3261.0    957.0   1000.0   1000.0  1000.0    194.0   \n",
      "1      14331.0  14948.0  15549.0   1518.0   1500.0   1000.0  1000.0   1000.0   \n",
      "2      28314.0  28959.0  29547.0   2000.0   2019.0   1200.0  1100.0   1069.0   \n",
      "3      20940.0  19146.0  19131.0   2000.0  36681.0  10000.0  9000.0    689.0   \n",
      "4      19394.0  19619.0  20024.0   2500.0   1815.0    657.0  1000.0   1000.0   \n",
      "...        ...      ...      ...      ...      ...      ...     ...      ...   \n",
      "24617  77519.0  82607.0  81158.0   7000.0   3500.0   1865.0  7000.0   1449.0   \n",
      "24618  88004.0  31237.0  15980.0   8500.0  20000.0   5003.0  3047.0   5000.0   \n",
      "24619  20878.0  20582.0  19357.0    209.0    598.0  22000.0  4200.0   2000.0   \n",
      "24620  52774.0  11855.0  48944.0  85900.0   3409.0   1178.0  1926.0  52964.0   \n",
      "24621  36535.0  32428.0  15313.0   2078.0   1800.0   1430.0  1000.0   1000.0   \n",
      "\n",
      "          X23  \n",
      "0      2000.0  \n",
      "1      5000.0  \n",
      "2      1000.0  \n",
      "3       679.0  \n",
      "4       800.0  \n",
      "...       ...  \n",
      "24617  4000.0  \n",
      "24618  1000.0  \n",
      "24619  3100.0  \n",
      "24620  1804.0  \n",
      "24621  1000.0  \n",
      "\n",
      "[24622 rows x 24 columns]\n"
     ]
    }
   ],
   "source": [
    "df['X1']= dft\n",
    "df['X5']= df5\n",
    "\n",
    "print(df)"
   ],
   "metadata": {
    "collapsed": false
   }
  },
  {
   "cell_type": "code",
   "execution_count": 1346,
   "outputs": [],
   "source": [
    "trans=df.drop(['ID','X1','X2','X3','X4','X5','X6','X7','X8','X9','X10','X11'],\n",
    "         axis = 1,\n",
    "        )"
   ],
   "metadata": {
    "collapsed": false
   }
  },
  {
   "cell_type": "code",
   "execution_count": 1347,
   "outputs": [
    {
     "name": "stdout",
     "output_type": "stream",
     "text": [
      "            X12       X13       X14      X15      X16      X17      X18  \\\n",
      "0        2682.0    1725.0    2682.0   3272.0   3455.0   3261.0    957.0   \n",
      "1       29239.0   14027.0   13559.0  14331.0  14948.0  15549.0   1518.0   \n",
      "2       46990.0   48233.0   49291.0  28314.0  28959.0  29547.0   2000.0   \n",
      "3        8617.0    5670.0   35835.0  20940.0  19146.0  19131.0   2000.0   \n",
      "4       64400.0   57069.0   57608.0  19394.0  19619.0  20024.0   2500.0   \n",
      "...         ...       ...       ...      ...      ...      ...      ...   \n",
      "24617   72557.0   77708.0   79384.0  77519.0  82607.0  81158.0   7000.0   \n",
      "24618  188948.0  192815.0  208365.0  88004.0  31237.0  15980.0   8500.0   \n",
      "24619    3565.0    3356.0    2758.0  20878.0  20582.0  19357.0    209.0   \n",
      "24620    1645.0   78379.0   76304.0  52774.0  11855.0  48944.0  85900.0   \n",
      "24621   47929.0   48905.0   49764.0  36535.0  32428.0  15313.0   2078.0   \n",
      "\n",
      "           X19      X20     X21      X22     X23  \n",
      "0       1000.0   1000.0  1000.0    194.0  2000.0  \n",
      "1       1500.0   1000.0  1000.0   1000.0  5000.0  \n",
      "2       2019.0   1200.0  1100.0   1069.0  1000.0  \n",
      "3      36681.0  10000.0  9000.0    689.0   679.0  \n",
      "4       1815.0    657.0  1000.0   1000.0   800.0  \n",
      "...        ...      ...     ...      ...     ...  \n",
      "24617   3500.0   1865.0  7000.0   1449.0  4000.0  \n",
      "24618  20000.0   5003.0  3047.0   5000.0  1000.0  \n",
      "24619    598.0  22000.0  4200.0   2000.0  3100.0  \n",
      "24620   3409.0   1178.0  1926.0  52964.0  1804.0  \n",
      "24621   1800.0   1430.0  1000.0   1000.0  1000.0  \n",
      "\n",
      "[24622 rows x 12 columns]\n"
     ]
    }
   ],
   "source": [
    "print(trans)"
   ],
   "metadata": {
    "collapsed": false
   }
  },
  {
   "cell_type": "code",
   "execution_count": 1348,
   "outputs": [
    {
     "name": "stdout",
     "output_type": "stream",
     "text": [
      "         X12    X13    X14    X15    X16    X17    X18    X19    X20    X21  \\\n",
      "0     -0.007 -0.008 -0.007 -0.007 -0.007 -0.007 -0.009 -0.009 -0.009 -0.009   \n",
      "1      0.019  0.004  0.004  0.004  0.005  0.006 -0.009 -0.009 -0.009 -0.009   \n",
      "2      0.037  0.039  0.040  0.018  0.019  0.020 -0.008 -0.008 -0.009 -0.009   \n",
      "3     -0.001 -0.004  0.026  0.011  0.009  0.009 -0.008  0.027  0.000 -0.001   \n",
      "4      0.055  0.048  0.048  0.009  0.010  0.010 -0.008 -0.008 -0.009 -0.009   \n",
      "...      ...    ...    ...    ...    ...    ...    ...    ...    ...    ...   \n",
      "24617  0.063  0.068  0.070  0.068  0.073  0.072 -0.003 -0.007 -0.008 -0.003   \n",
      "24618  0.181  0.185  0.200  0.079  0.021  0.006 -0.002  0.010 -0.005 -0.007   \n",
      "24619 -0.006 -0.007 -0.007  0.011  0.011  0.009 -0.010 -0.009  0.012 -0.006   \n",
      "24620 -0.008  0.069  0.067  0.043  0.002  0.039  0.077 -0.007 -0.009 -0.008   \n",
      "24621  0.038  0.039  0.040  0.027  0.023  0.005 -0.008 -0.008 -0.009 -0.009   \n",
      "\n",
      "         X22    X23  \n",
      "0     -0.010 -0.008  \n",
      "1     -0.009 -0.005  \n",
      "2     -0.009 -0.009  \n",
      "3     -0.009 -0.009  \n",
      "4     -0.009 -0.009  \n",
      "...      ...    ...  \n",
      "24617 -0.009 -0.006  \n",
      "24618 -0.005 -0.009  \n",
      "24619 -0.008 -0.007  \n",
      "24620  0.043 -0.008  \n",
      "24621 -0.009 -0.009  \n",
      "\n",
      "[24622 rows x 12 columns]\n"
     ]
    }
   ],
   "source": [
    "trans=((trans-MIN)/ (MAX-MIN)).round(3)\n",
    "print(trans)"
   ],
   "metadata": {
    "collapsed": false
   }
  },
  {
   "cell_type": "code",
   "execution_count": 1349,
   "outputs": [
    {
     "name": "stdout",
     "output_type": "stream",
     "text": [
      "          ID    X1   X2   X3   X4    X5   X6   X7   X8   X9  ...    X14  \\\n",
      "0          2  0.11  2.0  2.0  2.0  0.09 -1.0  2.0 -1.0 -1.0  ... -0.007   \n",
      "1          3  0.08  2.0  2.0  2.0  0.22 -1.0 -1.0 -1.0 -1.0  ...  0.004   \n",
      "2          4  0.04  2.0  2.0  1.0  0.28 -1.0 -1.0 -1.0 -1.0  ...  0.040   \n",
      "3          5  0.04  1.0  2.0  1.0  0.62 -1.0 -1.0 -1.0 -1.0  ...  0.026   \n",
      "4          6  0.04  1.0  1.0  2.0  0.28 -1.0 -1.0 -1.0 -1.0  ...  0.048   \n",
      "...      ...   ...  ...  ...  ...   ...  ...  ...  ...  ...  ...    ...   \n",
      "24617  29995  0.07  1.0  2.0  2.0  0.22  2.0  2.0  2.0  2.0  ...  0.070   \n",
      "24618  29996  0.21  1.0  3.0  1.0  0.31 -1.0 -1.0 -1.0 -1.0  ...  0.200   \n",
      "24619  29998  0.02  1.0  2.0  2.0  0.28  4.0  3.0  2.0 -1.0  ... -0.007   \n",
      "24620  29999  0.07  1.0  3.0  1.0  0.34  1.0 -1.0 -1.0 -1.0  ...  0.067   \n",
      "24621  30000  0.04  1.0  2.0  1.0  0.43 -1.0 -1.0 -1.0 -1.0  ...  0.040   \n",
      "\n",
      "         X15    X16    X17    X18    X19    X20    X21    X22    X23  \n",
      "0     -0.007 -0.007 -0.007 -0.009 -0.009 -0.009 -0.009 -0.010 -0.008  \n",
      "1      0.004  0.005  0.006 -0.009 -0.009 -0.009 -0.009 -0.009 -0.005  \n",
      "2      0.018  0.019  0.020 -0.008 -0.008 -0.009 -0.009 -0.009 -0.009  \n",
      "3      0.011  0.009  0.009 -0.008  0.027  0.000 -0.001 -0.009 -0.009  \n",
      "4      0.009  0.010  0.010 -0.008 -0.008 -0.009 -0.009 -0.009 -0.009  \n",
      "...      ...    ...    ...    ...    ...    ...    ...    ...    ...  \n",
      "24617  0.068  0.073  0.072 -0.003 -0.007 -0.008 -0.003 -0.009 -0.006  \n",
      "24618  0.079  0.021  0.006 -0.002  0.010 -0.005 -0.007 -0.005 -0.009  \n",
      "24619  0.011  0.011  0.009 -0.010 -0.009  0.012 -0.006 -0.008 -0.007  \n",
      "24620  0.043  0.002  0.039  0.077 -0.007 -0.009 -0.008  0.043 -0.008  \n",
      "24621  0.027  0.023  0.005 -0.008 -0.008 -0.009 -0.009 -0.009 -0.009  \n",
      "\n",
      "[24622 rows x 24 columns]\n"
     ]
    }
   ],
   "source": [
    "df['X12'] =trans['X12']\n",
    "df['X13'] =trans['X13']\n",
    "df['X14'] =trans['X14']\n",
    "df['X15'] =trans['X15']\n",
    "df['X16'] =trans['X16']\n",
    "df['X17'] =trans['X17']\n",
    "df['X18'] =trans['X18']\n",
    "df['X19'] =trans['X19']\n",
    "df['X20'] =trans['X20']\n",
    "df['X21'] =trans['X21']\n",
    "df['X22'] =trans['X22']\n",
    "df['X23'] =trans['X23']\n",
    "\n",
    "print(df)"
   ],
   "metadata": {
    "collapsed": false
   }
  },
  {
   "cell_type": "code",
   "execution_count": 1350,
   "outputs": [],
   "source": [
    "Cards_df=df"
   ],
   "metadata": {
    "collapsed": false
   }
  },
  {
   "cell_type": "code",
   "execution_count": 1351,
   "outputs": [
    {
     "data": {
      "text/plain": "          X1        X5\nX1  1.000000  0.134964\nX5  0.134964  1.000000",
      "text/html": "<div>\n<style scoped>\n    .dataframe tbody tr th:only-of-type {\n        vertical-align: middle;\n    }\n\n    .dataframe tbody tr th {\n        vertical-align: top;\n    }\n\n    .dataframe thead th {\n        text-align: right;\n    }\n</style>\n<table border=\"1\" class=\"dataframe\">\n  <thead>\n    <tr style=\"text-align: right;\">\n      <th></th>\n      <th>X1</th>\n      <th>X5</th>\n    </tr>\n  </thead>\n  <tbody>\n    <tr>\n      <th>X1</th>\n      <td>1.000000</td>\n      <td>0.134964</td>\n    </tr>\n    <tr>\n      <th>X5</th>\n      <td>0.134964</td>\n      <td>1.000000</td>\n    </tr>\n  </tbody>\n</table>\n</div>"
     },
     "execution_count": 1351,
     "metadata": {},
     "output_type": "execute_result"
    }
   ],
   "source": [
    "ndf = df[['X1', 'X5']]\n",
    "ndf.corr()"
   ],
   "metadata": {
    "collapsed": false
   }
  },
  {
   "cell_type": "code",
   "execution_count": 1352,
   "outputs": [
    {
     "data": {
      "text/plain": "0.16"
     },
     "execution_count": 1352,
     "metadata": {},
     "output_type": "execute_result"
    }
   ],
   "source": [
    "df.X1.mean().round(2)"
   ],
   "metadata": {
    "collapsed": false
   }
  },
  {
   "cell_type": "code",
   "execution_count": 1353,
   "outputs": [
    {
     "data": {
      "text/plain": "1.86"
     },
     "execution_count": 1353,
     "metadata": {},
     "output_type": "execute_result"
    }
   ],
   "source": [
    "df.X3.mean().round(2)"
   ],
   "metadata": {
    "collapsed": false
   }
  },
  {
   "cell_type": "code",
   "execution_count": 1354,
   "outputs": [
    {
     "data": {
      "text/plain": "array([[ 0.01734732, -0.02170296],\n       [-0.02170296,  0.5991568 ]])"
     },
     "execution_count": 1354,
     "metadata": {},
     "output_type": "execute_result"
    }
   ],
   "source": [
    "Varience= np.cov([df.X1,df.X3])\n",
    "Varience"
   ],
   "metadata": {
    "collapsed": false
   }
  },
  {
   "cell_type": "code",
   "execution_count": 1355,
   "outputs": [
    {
     "data": {
      "text/plain": "0.04258469599452615"
     },
     "execution_count": 1355,
     "metadata": {},
     "output_type": "execute_result"
    }
   ],
   "source": [
    "ndf = df[['X1','X5']]\n",
    "ndf.var().sum()"
   ],
   "metadata": {
    "collapsed": false
   }
  },
  {
   "cell_type": "code",
   "execution_count": 1356,
   "outputs": [],
   "source": [
    "t=ndf.var().sum()\n",
    "varC= Varience[0][0]\n",
    "varR= Varience[1][1]"
   ],
   "metadata": {
    "collapsed": false
   }
  },
  {
   "cell_type": "code",
   "execution_count": 1357,
   "outputs": [
    {
     "name": "stdout",
     "output_type": "stream",
     "text": [
      "Total Varience \t\t\t: 0.04\n",
      "Varience prop. of Amount of money \t: 40.74 %\n",
      "Varience prop. of Age \t: 1406.98 %\n"
     ]
    }
   ],
   "source": [
    "print('Total Varience \\t\\t\\t:', t.round(2) )\n",
    "print('Varience prop. of Amount of money \\t:', ((varC/t)*100).round(2),'%' )\n",
    "print('Varience prop. of Age \\t:', ((varR/t)*100).round(2),'%' )"
   ],
   "metadata": {
    "collapsed": false
   }
  },
  {
   "cell_type": "code",
   "execution_count": 1358,
   "outputs": [
    {
     "data": {
      "text/plain": "      X1    X5\nX1  1.00  0.13\nX5  0.13  1.00",
      "text/html": "<div>\n<style scoped>\n    .dataframe tbody tr th:only-of-type {\n        vertical-align: middle;\n    }\n\n    .dataframe tbody tr th {\n        vertical-align: top;\n    }\n\n    .dataframe thead th {\n        text-align: right;\n    }\n</style>\n<table border=\"1\" class=\"dataframe\">\n  <thead>\n    <tr style=\"text-align: right;\">\n      <th></th>\n      <th>X1</th>\n      <th>X5</th>\n    </tr>\n  </thead>\n  <tbody>\n    <tr>\n      <th>X1</th>\n      <td>1.00</td>\n      <td>0.13</td>\n    </tr>\n    <tr>\n      <th>X5</th>\n      <td>0.13</td>\n      <td>1.00</td>\n    </tr>\n  </tbody>\n</table>\n</div>"
     },
     "execution_count": 1358,
     "metadata": {},
     "output_type": "execute_result"
    }
   ],
   "source": [
    "ndf.corr().round(2)"
   ],
   "metadata": {
    "collapsed": false
   }
  },
  {
   "cell_type": "code",
   "execution_count": 1359,
   "outputs": [],
   "source": [
    "import seaborn as sns"
   ],
   "metadata": {
    "collapsed": false
   }
  },
  {
   "cell_type": "code",
   "execution_count": 1360,
   "outputs": [
    {
     "data": {
      "text/plain": "<AxesSubplot: xlabel='X1', ylabel='X5'>"
     },
     "execution_count": 1360,
     "metadata": {},
     "output_type": "execute_result"
    },
    {
     "data": {
      "text/plain": "<Figure size 640x480 with 1 Axes>",
      "image/png": "[encoded data removed]"
     },
     "metadata": {},
     "output_type": "display_data"
    }
   ],
   "source": [
    "p = sns.regplot(data = df,\n",
    "                x = df.X1,\n",
    "                y = df.X5\n",
    "               )\n",
    "p"
   ],
   "metadata": {
    "collapsed": false
   }
  },
  {
   "cell_type": "code",
   "execution_count": 1361,
   "outputs": [],
   "source": [
    "import numpy as np\n",
    "from sklearn.decomposition import PCA"
   ],
   "metadata": {
    "collapsed": false
   }
  },
  {
   "cell_type": "code",
   "execution_count": 1362,
   "outputs": [
    {
     "data": {
      "text/plain": "   Standard deviation  Proportion of variance  Cumulative proportion\n0            0.161691                0.613928               0.613928\n1            0.128222                0.386072               1.000000",
      "text/html": "<div>\n<style scoped>\n    .dataframe tbody tr th:only-of-type {\n        vertical-align: middle;\n    }\n\n    .dataframe tbody tr th {\n        vertical-align: top;\n    }\n\n    .dataframe thead th {\n        text-align: right;\n    }\n</style>\n<table border=\"1\" class=\"dataframe\">\n  <thead>\n    <tr style=\"text-align: right;\">\n      <th></th>\n      <th>Standard deviation</th>\n      <th>Proportion of variance</th>\n      <th>Cumulative proportion</th>\n    </tr>\n  </thead>\n  <tbody>\n    <tr>\n      <th>0</th>\n      <td>0.161691</td>\n      <td>0.613928</td>\n      <td>0.613928</td>\n    </tr>\n    <tr>\n      <th>1</th>\n      <td>0.128222</td>\n      <td>0.386072</td>\n      <td>1.000000</td>\n    </tr>\n  </tbody>\n</table>\n</div>"
     },
     "execution_count": 1362,
     "metadata": {},
     "output_type": "execute_result"
    }
   ],
   "source": [
    "pcs = PCA(n_components=2)\n",
    "\n",
    "pcs.fit(df[['X1', 'X5']])\n",
    "\n",
    "pcsSummary = pd.DataFrame({'Standard deviation': np.sqrt(pcs.explained_variance_),\n",
    "                          'Proportion of variance': pcs.explained_variance_ratio_,\n",
    "                          'Cumulative proportion': np.cumsum(pcs.explained_variance_ratio_)#column\n",
    "                          }\n",
    "                          )\n",
    "pcsSummary"
   ],
   "metadata": {
    "collapsed": false
   }
  },
  {
   "cell_type": "code",
   "execution_count": 1363,
   "outputs": [
    {
     "data": {
      "text/plain": "                           0     1\nStandard deviation      0.16  0.13\nProportion of variance  0.61  0.39\nCumulative proportion   0.61  1.00",
      "text/html": "<div>\n<style scoped>\n    .dataframe tbody tr th:only-of-type {\n        vertical-align: middle;\n    }\n\n    .dataframe tbody tr th {\n        vertical-align: top;\n    }\n\n    .dataframe thead th {\n        text-align: right;\n    }\n</style>\n<table border=\"1\" class=\"dataframe\">\n  <thead>\n    <tr style=\"text-align: right;\">\n      <th></th>\n      <th>0</th>\n      <th>1</th>\n    </tr>\n  </thead>\n  <tbody>\n    <tr>\n      <th>Standard deviation</th>\n      <td>0.16</td>\n      <td>0.13</td>\n    </tr>\n    <tr>\n      <th>Proportion of variance</th>\n      <td>0.61</td>\n      <td>0.39</td>\n    </tr>\n    <tr>\n      <th>Cumulative proportion</th>\n      <td>0.61</td>\n      <td>1.00</td>\n    </tr>\n  </tbody>\n</table>\n</div>"
     },
     "execution_count": 1363,
     "metadata": {},
     "output_type": "execute_result"
    }
   ],
   "source": [
    "pcsSummary = pcsSummary.transpose()\n",
    "pcsSummary.round(2)"
   ],
   "metadata": {
    "collapsed": false
   }
  },
  {
   "cell_type": "code",
   "execution_count": 1364,
   "outputs": [
    {
     "data": {
      "text/plain": "                           PC1     PC2\nStandard deviation      0.1617  0.1282\nProportion of variance  0.6139  0.3861\nCumulative proportion   0.6139  1.0000",
      "text/html": "<div>\n<style scoped>\n    .dataframe tbody tr th:only-of-type {\n        vertical-align: middle;\n    }\n\n    .dataframe tbody tr th {\n        vertical-align: top;\n    }\n\n    .dataframe thead th {\n        text-align: right;\n    }\n</style>\n<table border=\"1\" class=\"dataframe\">\n  <thead>\n    <tr style=\"text-align: right;\">\n      <th></th>\n      <th>PC1</th>\n      <th>PC2</th>\n    </tr>\n  </thead>\n  <tbody>\n    <tr>\n      <th>Standard deviation</th>\n      <td>0.1617</td>\n      <td>0.1282</td>\n    </tr>\n    <tr>\n      <th>Proportion of variance</th>\n      <td>0.6139</td>\n      <td>0.3861</td>\n    </tr>\n    <tr>\n      <th>Cumulative proportion</th>\n      <td>0.6139</td>\n      <td>1.0000</td>\n    </tr>\n  </tbody>\n</table>\n</div>"
     },
     "execution_count": 1364,
     "metadata": {},
     "output_type": "execute_result"
    }
   ],
   "source": [
    "pcsSummary.columns = ['PC1', 'PC2']\n",
    "pcsSummary = pcsSummary.round(4)\n",
    "pcsSummary"
   ],
   "metadata": {
    "collapsed": false
   }
  },
  {
   "cell_type": "markdown",
   "source": [
    "### Scre plot"
   ],
   "metadata": {
    "collapsed": false
   }
  },
  {
   "cell_type": "code",
   "execution_count": 1365,
   "outputs": [],
   "source": [
    "import matplotlib as mpl\n",
    "import matplotlib.pyplot as plt"
   ],
   "metadata": {
    "collapsed": false
   }
  },
  {
   "cell_type": "code",
   "execution_count": 1366,
   "outputs": [
    {
     "data": {
      "text/plain": "<Figure size 1000x700 with 1 Axes>",
      "image/png": "[encoded data removed]"
     },
     "metadata": {},
     "output_type": "display_data"
    }
   ],
   "source": [
    "PC_components = np.arange(pcs.n_components_) + 1\n",
    "#PC_components\n",
    "\n",
    "_ = sns.set(style = 'whitegrid',\n",
    "            font_scale = 1.2\n",
    "            )\n",
    "\n",
    "fig, ax = plt.subplots(figsize=(10, 7))\n",
    "\n",
    "_ = sns.barplot(x = PC_components,\n",
    "                y = pcs.explained_variance_ratio_,\n",
    "                color = 'b'\n",
    "                )\n",
    "\n",
    "_ = sns.lineplot(x = PC_components-1,\n",
    "                 y = np.cumsum(pcs.explained_variance_ratio_),\n",
    "                 color = 'black',\n",
    "                 linestyle = '-',\n",
    "                 linewidth = 2,\n",
    "                 marker = 'o',\n",
    "                 markersize = 8\n",
    "                 )\n",
    "\n",
    "plt.title('Scree Plot')\n",
    "plt.xlabel('N-th Principal Component')\n",
    "plt.ylabel('Variance Explained')\n",
    "plt.ylim(0, 1)\n",
    "plt.show()"
   ],
   "metadata": {
    "collapsed": false
   }
  },
  {
   "cell_type": "code",
   "execution_count": 1367,
   "outputs": [
    {
     "data": {
      "text/plain": "array([[ 0.3057,  0.9521],\n       [ 0.9521, -0.3057]])"
     },
     "execution_count": 1367,
     "metadata": {},
     "output_type": "execute_result"
    }
   ],
   "source": [
    "pcs.components_.round(4) #is the set of all eigenvectors for your projection space (one eigenvector for each principal component)."
   ],
   "metadata": {
    "collapsed": false
   }
  },
  {
   "cell_type": "code",
   "execution_count": 1368,
   "outputs": [
    {
     "data": {
      "text/plain": "         PC1       PC2\nX1  0.305662  0.952140\nX5  0.952140 -0.305662",
      "text/html": "<div>\n<style scoped>\n    .dataframe tbody tr th:only-of-type {\n        vertical-align: middle;\n    }\n\n    .dataframe tbody tr th {\n        vertical-align: top;\n    }\n\n    .dataframe thead th {\n        text-align: right;\n    }\n</style>\n<table border=\"1\" class=\"dataframe\">\n  <thead>\n    <tr style=\"text-align: right;\">\n      <th></th>\n      <th>PC1</th>\n      <th>PC2</th>\n    </tr>\n  </thead>\n  <tbody>\n    <tr>\n      <th>X1</th>\n      <td>0.305662</td>\n      <td>0.952140</td>\n    </tr>\n    <tr>\n      <th>X5</th>\n      <td>0.952140</td>\n      <td>-0.305662</td>\n    </tr>\n  </tbody>\n</table>\n</div>"
     },
     "execution_count": 1368,
     "metadata": {},
     "output_type": "execute_result"
    }
   ],
   "source": [
    "pcsComponents_df = pd.DataFrame(pcs.components_.transpose(),\n",
    "                                columns=['PC1', 'PC2'],\n",
    "                                index=['X1', 'X5']\n",
    "                                )\n",
    "pcsComponents_df"
   ],
   "metadata": {
    "collapsed": false
   }
  },
  {
   "cell_type": "code",
   "execution_count": 1369,
   "outputs": [
    {
     "data": {
      "text/plain": "          x         y\n0 -0.165072  0.004181\n1 -0.050463 -0.064119\n2 -0.005561 -0.120544\n3  0.318166 -0.224469\n4 -0.005561 -0.120544",
      "text/html": "<div>\n<style scoped>\n    .dataframe tbody tr th:only-of-type {\n        vertical-align: middle;\n    }\n\n    .dataframe tbody tr th {\n        vertical-align: top;\n    }\n\n    .dataframe thead th {\n        text-align: right;\n    }\n</style>\n<table border=\"1\" class=\"dataframe\">\n  <thead>\n    <tr style=\"text-align: right;\">\n      <th></th>\n      <th>x</th>\n      <th>y</th>\n    </tr>\n  </thead>\n  <tbody>\n    <tr>\n      <th>0</th>\n      <td>-0.165072</td>\n      <td>0.004181</td>\n    </tr>\n    <tr>\n      <th>1</th>\n      <td>-0.050463</td>\n      <td>-0.064119</td>\n    </tr>\n    <tr>\n      <th>2</th>\n      <td>-0.005561</td>\n      <td>-0.120544</td>\n    </tr>\n    <tr>\n      <th>3</th>\n      <td>0.318166</td>\n      <td>-0.224469</td>\n    </tr>\n    <tr>\n      <th>4</th>\n      <td>-0.005561</td>\n      <td>-0.120544</td>\n    </tr>\n  </tbody>\n</table>\n</div>"
     },
     "execution_count": 1369,
     "metadata": {},
     "output_type": "execute_result"
    }
   ],
   "source": [
    "scores = pd.DataFrame(pcs.transform(df[['X1', 'X5']]),\n",
    "                      columns=['x', 'y']\n",
    "                      )\n",
    "scores.head()"
   ],
   "metadata": {
    "collapsed": false
   }
  },
  {
   "cell_type": "code",
   "execution_count": 1370,
   "outputs": [
    {
     "data": {
      "text/plain": "-2.2085421064958235e-17"
     },
     "execution_count": 1370,
     "metadata": {},
     "output_type": "execute_result"
    }
   ],
   "source": [
    "scores.x.mean()"
   ],
   "metadata": {
    "collapsed": false
   }
  },
  {
   "cell_type": "code",
   "execution_count": 1371,
   "outputs": [
    {
     "data": {
      "text/plain": "-2.322031456003515e-13"
     },
     "execution_count": 1371,
     "metadata": {},
     "output_type": "execute_result"
    }
   ],
   "source": [
    "scores.y.sum()"
   ],
   "metadata": {
    "collapsed": false
   }
  },
  {
   "cell_type": "code",
   "execution_count": 1372,
   "outputs": [
    {
     "data": {
      "text/plain": "0.04258469599452615"
     },
     "execution_count": 1372,
     "metadata": {},
     "output_type": "execute_result"
    }
   ],
   "source": [
    "scores.x.var() + scores.y.var()"
   ],
   "metadata": {
    "collapsed": false
   }
  },
  {
   "cell_type": "code",
   "execution_count": 1373,
   "outputs": [
    {
     "data": {
      "text/plain": "0.04258469599452615"
     },
     "execution_count": 1373,
     "metadata": {},
     "output_type": "execute_result"
    }
   ],
   "source": [
    "df.X1.var() + df.X5.var()"
   ],
   "metadata": {
    "collapsed": false
   }
  },
  {
   "cell_type": "code",
   "execution_count": 1374,
   "outputs": [
    {
     "data": {
      "text/plain": "61.0"
     },
     "execution_count": 1374,
     "metadata": {},
     "output_type": "execute_result"
    }
   ],
   "source": [
    "((scores.x.var()/\n",
    "  (scores.x.var()+scores.y.var())\n",
    " )*100).round(0)"
   ],
   "metadata": {
    "collapsed": false
   }
  },
  {
   "cell_type": "code",
   "execution_count": 1375,
   "outputs": [
    {
     "data": {
      "text/plain": "                              0         1         2         3         4   \\\nStandard deviation      2.101929  1.037684  0.799253  0.780263  0.660490   \nProportion of variance  0.531911  0.129638  0.076908  0.073297  0.052521   \nCumulative proportion   0.531911  0.661549  0.738457  0.811754  0.864275   \n\n                              5         6         7         8         9   ...  \\\nStandard deviation      0.547453  0.513351  0.507681  0.488791  0.177290  ...   \nProportion of variance  0.036082  0.031727  0.031030  0.028764  0.003784  ...   \nCumulative proportion   0.900358  0.932085  0.963115  0.991879  0.995663  ...   \n\n                              13        14        15        16        17  \\\nStandard deviation      0.029681  0.023932  0.021421  0.020805  0.018784   \nProportion of variance  0.000106  0.000069  0.000055  0.000052  0.000042   \nCumulative proportion   0.999674  0.999743  0.999799  0.999851  0.999893   \n\n                              18        19        20        21        22  \nStandard deviation      0.017561  0.013829  0.012536  0.011069  0.010400  \nProportion of variance  0.000037  0.000023  0.000019  0.000015  0.000013  \nCumulative proportion   0.999930  0.999953  0.999972  0.999987  1.000000  \n\n[3 rows x 23 columns]",
      "text/html": "<div>\n<style scoped>\n    .dataframe tbody tr th:only-of-type {\n        vertical-align: middle;\n    }\n\n    .dataframe tbody tr th {\n        vertical-align: top;\n    }\n\n    .dataframe thead th {\n        text-align: right;\n    }\n</style>\n<table border=\"1\" class=\"dataframe\">\n  <thead>\n    <tr style=\"text-align: right;\">\n      <th></th>\n      <th>0</th>\n      <th>1</th>\n      <th>2</th>\n      <th>3</th>\n      <th>4</th>\n      <th>5</th>\n      <th>6</th>\n      <th>7</th>\n      <th>8</th>\n      <th>9</th>\n      <th>...</th>\n      <th>13</th>\n      <th>14</th>\n      <th>15</th>\n      <th>16</th>\n      <th>17</th>\n      <th>18</th>\n      <th>19</th>\n      <th>20</th>\n      <th>21</th>\n      <th>22</th>\n    </tr>\n  </thead>\n  <tbody>\n    <tr>\n      <th>Standard deviation</th>\n      <td>2.101929</td>\n      <td>1.037684</td>\n      <td>0.799253</td>\n      <td>0.780263</td>\n      <td>0.660490</td>\n      <td>0.547453</td>\n      <td>0.513351</td>\n      <td>0.507681</td>\n      <td>0.488791</td>\n      <td>0.177290</td>\n      <td>...</td>\n      <td>0.029681</td>\n      <td>0.023932</td>\n      <td>0.021421</td>\n      <td>0.020805</td>\n      <td>0.018784</td>\n      <td>0.017561</td>\n      <td>0.013829</td>\n      <td>0.012536</td>\n      <td>0.011069</td>\n      <td>0.010400</td>\n    </tr>\n    <tr>\n      <th>Proportion of variance</th>\n      <td>0.531911</td>\n      <td>0.129638</td>\n      <td>0.076908</td>\n      <td>0.073297</td>\n      <td>0.052521</td>\n      <td>0.036082</td>\n      <td>0.031727</td>\n      <td>0.031030</td>\n      <td>0.028764</td>\n      <td>0.003784</td>\n      <td>...</td>\n      <td>0.000106</td>\n      <td>0.000069</td>\n      <td>0.000055</td>\n      <td>0.000052</td>\n      <td>0.000042</td>\n      <td>0.000037</td>\n      <td>0.000023</td>\n      <td>0.000019</td>\n      <td>0.000015</td>\n      <td>0.000013</td>\n    </tr>\n    <tr>\n      <th>Cumulative proportion</th>\n      <td>0.531911</td>\n      <td>0.661549</td>\n      <td>0.738457</td>\n      <td>0.811754</td>\n      <td>0.864275</td>\n      <td>0.900358</td>\n      <td>0.932085</td>\n      <td>0.963115</td>\n      <td>0.991879</td>\n      <td>0.995663</td>\n      <td>...</td>\n      <td>0.999674</td>\n      <td>0.999743</td>\n      <td>0.999799</td>\n      <td>0.999851</td>\n      <td>0.999893</td>\n      <td>0.999930</td>\n      <td>0.999953</td>\n      <td>0.999972</td>\n      <td>0.999987</td>\n      <td>1.000000</td>\n    </tr>\n  </tbody>\n</table>\n<p>3 rows × 23 columns</p>\n</div>"
     },
     "execution_count": 1375,
     "metadata": {},
     "output_type": "execute_result"
    }
   ],
   "source": [
    "pcs = PCA()\n",
    "pcs.fit(Cards_df.iloc[:, 1:].dropna(axis=0))\n",
    "pcsSummary_df = pd.DataFrame({'Standard deviation': np.sqrt(pcs.explained_variance_),\n",
    "                             'Proportion of variance': pcs.explained_variance_ratio_,\n",
    "                             'Cumulative proportion': np.cumsum(pcs.explained_variance_ratio_)\n",
    "                             })\n",
    "pcsSummary_df = pcsSummary_df.transpose()\n",
    "pcsSummary_df"
   ],
   "metadata": {
    "collapsed": false
   }
  },
  {
   "cell_type": "code",
   "execution_count": 1376,
   "outputs": [
    {
     "data": {
      "text/plain": "<Figure size 1000x700 with 1 Axes>",
      "image/png": "[encoded data removed]"
     },
     "metadata": {},
     "output_type": "display_data"
    }
   ],
   "source": [
    "PC_components = np.arange(pcs.n_components_) + 1\n",
    "#PC_components\n",
    "\n",
    "_ = sns.set(style = 'whitegrid',\n",
    "            font_scale = 1.2\n",
    "            )\n",
    "\n",
    "fig, ax = plt.subplots(figsize=(10, 7))\n",
    "\n",
    "_ = sns.barplot(x = PC_components,\n",
    "                y = pcs.explained_variance_ratio_,\n",
    "                color = 'b'\n",
    "                )\n",
    "\n",
    "_ = sns.lineplot(x = PC_components-1,\n",
    "                 y = np.cumsum(pcs.explained_variance_ratio_),\n",
    "                 color = 'black',\n",
    "                 linestyle = '-',\n",
    "                 linewidth = 2,\n",
    "                 marker = 'o',\n",
    "                 markersize = 8\n",
    "                 )\n",
    "\n",
    "plt.title('Scree Plot')\n",
    "plt.xlabel('N-th Principal Component')\n",
    "plt.ylabel('Variance Explained')\n",
    "plt.ylim(0, 1)\n",
    "plt.show()\n"
   ],
   "metadata": {
    "collapsed": false
   }
  },
  {
   "cell_type": "code",
   "execution_count": 1377,
   "outputs": [
    {
     "data": {
      "text/plain": "74.0"
     },
     "execution_count": 1377,
     "metadata": {},
     "output_type": "execute_result"
    }
   ],
   "source": [
    "#pcsSummary_df.iloc[1][0]+pcsSummary_df.iloc[1][1]+pcsSummary_df.iloc[1][2]\n",
    "#OR\n",
    "((pcsSummary_df.iloc[2][2])*100).round(0)\n",
    "#type(pcsSummary_df)"
   ],
   "metadata": {
    "collapsed": false
   }
  },
  {
   "cell_type": "code",
   "execution_count": 1378,
   "outputs": [
    {
     "data": {
      "text/plain": "66.15"
     },
     "execution_count": 1378,
     "metadata": {},
     "output_type": "execute_result"
    }
   ],
   "source": [
    "#pcsSummary_df.iloc[1][0]+pcsSummary_df.iloc[1][1]\n",
    "#OR\n",
    "((pcsSummary_df.iloc[2][1])*100).round(2)"
   ],
   "metadata": {
    "collapsed": false
   }
  },
  {
   "cell_type": "code",
   "execution_count": 1379,
   "outputs": [
    {
     "data": {
      "text/plain": "                           PC1     PC2     PC3     PC4     PC5     PC6  \\\nStandard deviation      2.1019  1.0377  0.7993  0.7803  0.6605  0.5475   \nProportion of variance  0.5319  0.1296  0.0769  0.0733  0.0525  0.0361   \nCumulative proportion   0.5319  0.6615  0.7385  0.8118  0.8643  0.9004   \n\n                           PC7     PC8     PC9    PC10  ...    PC14    PC15  \\\nStandard deviation      0.5134  0.5077  0.4888  0.1773  ...  0.0297  0.0239   \nProportion of variance  0.0317  0.0310  0.0288  0.0038  ...  0.0001  0.0001   \nCumulative proportion   0.9321  0.9631  0.9919  0.9957  ...  0.9997  0.9997   \n\n                          PC16    PC17    PC18    PC19    PC20    PC21  \\\nStandard deviation      0.0214  0.0208  0.0188  0.0176  0.0138  0.0125   \nProportion of variance  0.0001  0.0001  0.0000  0.0000  0.0000  0.0000   \nCumulative proportion   0.9998  0.9999  0.9999  0.9999  1.0000  1.0000   \n\n                          PC22    PC23  \nStandard deviation      0.0111  0.0104  \nProportion of variance  0.0000  0.0000  \nCumulative proportion   1.0000  1.0000  \n\n[3 rows x 23 columns]",
      "text/html": "<div>\n<style scoped>\n    .dataframe tbody tr th:only-of-type {\n        vertical-align: middle;\n    }\n\n    .dataframe tbody tr th {\n        vertical-align: top;\n    }\n\n    .dataframe thead th {\n        text-align: right;\n    }\n</style>\n<table border=\"1\" class=\"dataframe\">\n  <thead>\n    <tr style=\"text-align: right;\">\n      <th></th>\n      <th>PC1</th>\n      <th>PC2</th>\n      <th>PC3</th>\n      <th>PC4</th>\n      <th>PC5</th>\n      <th>PC6</th>\n      <th>PC7</th>\n      <th>PC8</th>\n      <th>PC9</th>\n      <th>PC10</th>\n      <th>...</th>\n      <th>PC14</th>\n      <th>PC15</th>\n      <th>PC16</th>\n      <th>PC17</th>\n      <th>PC18</th>\n      <th>PC19</th>\n      <th>PC20</th>\n      <th>PC21</th>\n      <th>PC22</th>\n      <th>PC23</th>\n    </tr>\n  </thead>\n  <tbody>\n    <tr>\n      <th>Standard deviation</th>\n      <td>2.1019</td>\n      <td>1.0377</td>\n      <td>0.7993</td>\n      <td>0.7803</td>\n      <td>0.6605</td>\n      <td>0.5475</td>\n      <td>0.5134</td>\n      <td>0.5077</td>\n      <td>0.4888</td>\n      <td>0.1773</td>\n      <td>...</td>\n      <td>0.0297</td>\n      <td>0.0239</td>\n      <td>0.0214</td>\n      <td>0.0208</td>\n      <td>0.0188</td>\n      <td>0.0176</td>\n      <td>0.0138</td>\n      <td>0.0125</td>\n      <td>0.0111</td>\n      <td>0.0104</td>\n    </tr>\n    <tr>\n      <th>Proportion of variance</th>\n      <td>0.5319</td>\n      <td>0.1296</td>\n      <td>0.0769</td>\n      <td>0.0733</td>\n      <td>0.0525</td>\n      <td>0.0361</td>\n      <td>0.0317</td>\n      <td>0.0310</td>\n      <td>0.0288</td>\n      <td>0.0038</td>\n      <td>...</td>\n      <td>0.0001</td>\n      <td>0.0001</td>\n      <td>0.0001</td>\n      <td>0.0001</td>\n      <td>0.0000</td>\n      <td>0.0000</td>\n      <td>0.0000</td>\n      <td>0.0000</td>\n      <td>0.0000</td>\n      <td>0.0000</td>\n    </tr>\n    <tr>\n      <th>Cumulative proportion</th>\n      <td>0.5319</td>\n      <td>0.6615</td>\n      <td>0.7385</td>\n      <td>0.8118</td>\n      <td>0.8643</td>\n      <td>0.9004</td>\n      <td>0.9321</td>\n      <td>0.9631</td>\n      <td>0.9919</td>\n      <td>0.9957</td>\n      <td>...</td>\n      <td>0.9997</td>\n      <td>0.9997</td>\n      <td>0.9998</td>\n      <td>0.9999</td>\n      <td>0.9999</td>\n      <td>0.9999</td>\n      <td>1.0000</td>\n      <td>1.0000</td>\n      <td>1.0000</td>\n      <td>1.0000</td>\n    </tr>\n  </tbody>\n</table>\n<p>3 rows × 23 columns</p>\n</div>"
     },
     "execution_count": 1379,
     "metadata": {},
     "output_type": "execute_result"
    }
   ],
   "source": [
    "pcsSummary_df.columns = ['PC{}'.format(i) for i in range(1, len(pcsSummary_df.columns) + 1)]\n",
    "pcsSummary_df.round(4)"
   ],
   "metadata": {
    "collapsed": false
   }
  },
  {
   "cell_type": "code",
   "execution_count": 1380,
   "outputs": [
    {
     "data": {
      "text/plain": "array([[-1.56709435e-02, -9.45290824e-03,  2.40235841e-02,\n        -3.54069778e-03, -8.34504551e-04,  4.28422488e-01,\n         4.79474309e-01,  4.48134927e-01,  3.99068056e-01,\n         3.53955950e-01,  3.16641106e-01, -9.41301448e-04,\n        -4.69204520e-04, -1.04048847e-04,  4.84739706e-04,\n         9.32055323e-04,  1.05826897e-03, -6.58846706e-04,\n        -7.58305966e-04, -6.03307371e-04, -5.83210649e-04,\n        -5.56394065e-04,  1.12416871e-03],\n       [ 2.88969381e-04,  3.18580229e-03, -5.64549881e-02,\n         7.98444101e-03, -3.27683083e-03, -4.86897771e-01,\n        -4.60979076e-01, -3.01209862e-02,  3.28250968e-01,\n         4.58009431e-01,  4.78224149e-01, -3.66738825e-03,\n        -3.02664356e-03, -2.20219060e-03, -1.16863212e-03,\n        -3.66770225e-04, -8.97942673e-05,  9.86127448e-05,\n         3.60047779e-05,  5.45248915e-05,  2.26163725e-05,\n        -2.74859001e-04,  9.78951347e-04],\n       [-6.55866594e-03,  3.67458859e-03,  1.17386897e-01,\n        -1.83710283e-02,  4.17553781e-03,  3.70700599e-01,\n         9.31532922e-02, -6.46517476e-01, -3.68909896e-01,\n         2.12659975e-01,  4.90272663e-01,  3.25194003e-03,\n         2.16957338e-03,  2.30645708e-03,  2.43417342e-03,\n         2.70508481e-03,  2.46092450e-03, -6.12926493e-04,\n         4.12193132e-05,  3.70397708e-05, -6.97056887e-05,\n        -2.94890562e-04,  1.05797650e-03],\n       [-3.01080172e-02,  3.02461865e-02,  9.70725264e-01,\n        -1.76918464e-01,  4.85898424e-02, -5.58786278e-02,\n        -6.86695862e-02,  3.86028624e-02,  8.81158213e-02,\n         7.87862330e-03, -7.09807246e-02,  7.72376810e-04,\n         2.65961726e-04, -3.41643336e-04, -1.52672581e-03,\n        -2.10565339e-03, -2.04111500e-03, -9.47189402e-04,\n        -9.53501313e-04, -9.51834474e-04, -9.34234721e-04,\n        -8.94083742e-04, -1.03667663e-03],\n       [-5.03532728e-03,  4.10739205e-03,  6.26599999e-02,\n        -5.33767123e-03, -1.57141235e-04, -2.79037563e-01,\n         1.16737051e-01,  4.92395214e-01, -5.64260031e-01,\n        -2.75115523e-01,  5.17639380e-01, -2.75134180e-03,\n        -2.05004607e-03, -3.03946363e-03, -2.18946558e-03,\n        -1.43925554e-03, -1.65924543e-03,  2.27474883e-04,\n        -9.30591204e-04, -8.17757062e-05,  4.43084633e-04,\n        -1.96439178e-04,  4.32301462e-04],\n       [ 4.79244978e-03, -2.99177228e-03,  2.15493919e-03,\n        -6.86062761e-02,  8.83053895e-03, -5.61585219e-01,\n         6.55938551e-01, -1.87868634e-01, -1.38661240e-01,\n         3.82307908e-01, -2.20887064e-01, -2.59264271e-03,\n        -4.39362034e-03, -3.74021011e-03, -3.17533048e-03,\n        -3.61615768e-03, -2.91743078e-03, -1.12469197e-03,\n        -1.71293278e-04,  3.68972833e-05,  3.61837809e-05,\n        -1.58770163e-05, -5.66652829e-04],\n       [-4.34465998e-02, -2.17630236e-01,  1.81466852e-01,\n         9.40914326e-01, -1.09081119e-01, -1.24907265e-02,\n        -1.57618198e-03,  2.54218477e-02, -6.88086894e-02,\n         1.05841973e-01, -6.04506376e-02, -5.27595809e-03,\n        -5.10625088e-03, -6.20716136e-03, -5.95170469e-03,\n        -6.34055439e-03, -5.46399264e-03, -8.77162015e-04,\n        -1.13339485e-03, -7.04676434e-04, -1.09166556e-03,\n        -7.60553003e-04, -1.53089401e-03],\n       [-9.05324470e-03,  8.13585596e-02,  3.05030657e-02,\n         1.42488591e-01, -1.96061407e-02, -2.11694394e-01,\n         3.16134189e-01, -3.14838882e-01,  4.93863045e-01,\n        -6.16778553e-01,  3.21553420e-01, -3.81136913e-03,\n        -4.84031303e-03, -3.33672133e-03, -4.34173917e-03,\n        -3.09383305e-03, -3.01231504e-03, -1.13984150e-03,\n         1.98308941e-04, -9.39906981e-04,  1.01419528e-04,\n        -2.21844473e-04,  4.03865212e-04],\n       [ 7.25219994e-03, -9.71178244e-01, -8.75764633e-03,\n        -1.98630454e-01,  6.66666028e-02, -2.05556714e-02,\n         1.74213158e-02, -3.50219559e-02,  5.33235118e-02,\n        -7.85516836e-02,  4.15889987e-02,  5.14062589e-03,\n         4.51189167e-03,  3.98019328e-03,  3.29643844e-03,\n         2.72085378e-03,  2.62152397e-03,  2.28688210e-04,\n         3.99213331e-04,  5.54415079e-04,  3.47616247e-04,\n         2.53305231e-04,  7.61292015e-04],\n       [ 4.38209428e-01,  1.37026687e-02,  1.55326984e-02,\n         5.59688651e-02,  1.90421776e-01, -8.23904187e-03,\n         8.20712487e-03,  5.35247222e-03,  4.44189191e-03,\n         9.09539679e-04,  6.02924800e-03,  3.90402242e-01,\n         3.83872249e-01,  3.74415254e-01,  3.48788987e-01,\n         3.25106897e-01,  3.10708666e-01,  2.49488495e-02,\n         2.96789352e-02,  2.59951974e-02,  2.01934922e-02,\n         2.08195589e-02,  3.25993257e-02],\n       [ 7.70779522e-02,  3.82747428e-02, -2.40063253e-02,\n         1.23759616e-01,  9.54945733e-01,  4.46659421e-03,\n        -8.32063572e-05,  1.50150164e-03, -1.79362261e-03,\n         2.29893792e-03,  2.51368460e-03, -1.14101786e-01,\n        -1.12954602e-01, -1.09771092e-01, -1.00881930e-01,\n        -9.37135908e-02, -8.89416894e-02, -2.45708845e-03,\n        -2.80976836e-03, -7.99569365e-04, -1.59452734e-03,\n        -6.50591687e-04, -5.26181498e-03],\n       [ 8.91309467e-01, -1.10076202e-02,  3.81568242e-02,\n         4.81736543e-03, -1.80599679e-01,  1.10437564e-02,\n         3.06478435e-03,  3.78092787e-03,  3.89960929e-03,\n         3.16149134e-03,  7.40649333e-03, -1.86867232e-01,\n        -1.92646821e-01, -1.82548543e-01, -1.60540212e-01,\n        -1.42985239e-01, -1.34055308e-01,  1.09922390e-02,\n         1.83674296e-02,  1.74790051e-02,  1.69596012e-02,\n         1.75813527e-02,  1.48265616e-02],\n       [-3.06032214e-02, -1.52764994e-03,  2.46296058e-03,\n         2.20903137e-04,  1.29748708e-03,  2.12753223e-05,\n         4.76985669e-04, -6.91914485e-04, -1.30733605e-03,\n        -1.42852011e-03, -2.89514096e-03, -5.44048880e-01,\n        -3.94609504e-01, -4.35278507e-02,  2.56403565e-01,\n         4.26743579e-01,  4.86307339e-01,  4.56180654e-02,\n         1.59270102e-01,  1.35516042e-01,  9.90346871e-02,\n         5.92265465e-02,  4.43174030e-02],\n       [-2.55448490e-02,  2.15973415e-04, -2.31897557e-04,\n        -3.03308089e-04, -4.11084640e-04, -1.19386945e-04,\n         4.54499444e-04,  4.87845022e-04, -6.08184265e-04,\n         6.29072832e-04,  6.67758698e-04, -1.58976898e-01,\n        -1.82445638e-02,  5.03945723e-01,  4.04047527e-02,\n        -2.08032550e-01, -2.85854793e-01,  1.85665751e-01,\n         7.28838310e-01,  7.28977854e-02,  1.18200813e-02,\n         5.33167637e-02,  1.38495622e-01],\n       [-4.12711804e-02,  6.44850756e-04, -3.01936780e-04,\n        -3.85772413e-04,  1.01679318e-03, -2.92758127e-04,\n        -3.72224010e-04, -1.17860630e-04, -6.73665056e-05,\n        -1.76928631e-04, -1.95553112e-03,  1.70945245e-01,\n         3.73316638e-02, -2.32647179e-01, -8.91006930e-02,\n        -6.78492759e-04,  3.58901420e-02,  9.91979719e-02,\n        -1.41885425e-02,  2.35221078e-01,  1.99090939e-01,\n         1.54226101e-01,  8.80641451e-01],\n       [-2.61669207e-02,  3.11246681e-04, -3.94149260e-04,\n        -8.51900375e-04, -1.97845427e-04,  3.83740420e-04,\n         2.72061781e-05,  3.53940184e-04,  4.64819382e-04,\n         6.65576007e-04,  7.25032356e-04,  2.69801288e-01,\n         5.48354590e-02, -1.95967247e-01, -4.68933167e-01,\n        -1.32992061e-02,  3.41949832e-01,  1.65746859e-01,\n         3.34955340e-01,  1.11248171e-01,  3.89496568e-01,\n         3.39243525e-01, -3.59538758e-01],\n       [-1.49527318e-02,  3.51784035e-04,  5.54657338e-06,\n        -5.57891421e-04, -1.34077202e-03,  2.66811700e-05,\n         7.15233314e-04, -4.80672826e-04,  1.17838273e-03,\n        -2.45951319e-04,  9.31721310e-04,  5.56383954e-02,\n         9.48287336e-02, -2.97074444e-01,  3.65467083e-01,\n         4.66133556e-02, -3.17042048e-01,  3.17392827e-01,\n        -2.28309848e-03,  6.80749534e-01,  9.33229373e-02,\n        -1.59128919e-01, -2.54912914e-01],\n       [ 3.18709660e-05, -2.00332545e-04,  5.15691046e-04,\n        -1.90161465e-04, -6.88106058e-04, -3.92870361e-04,\n         1.38406972e-03, -1.53078529e-03,  2.81278668e-04,\n         1.99170779e-04,  4.15856660e-05, -4.33978218e-01,\n         4.55529812e-01,  7.00462398e-02, -1.03814208e-01,\n        -9.43417683e-02,  9.18647611e-02,  6.64376656e-01,\n        -2.83704561e-01, -1.55675134e-01, -4.75118802e-02,\n         1.50005283e-01,  1.57622132e-02],\n       [ 4.50114189e-03, -2.01126904e-04,  1.69200755e-04,\n         5.84932619e-04,  9.18548953e-04,  2.57824478e-06,\n         1.66834266e-04, -1.47614452e-04, -7.46354817e-05,\n         5.02138173e-04, -7.95198763e-04, -4.10442687e-02,\n         6.47272171e-02,  8.82382998e-03, -2.10247439e-01,\n         4.23976071e-01, -2.44079048e-01,  1.12682401e-01,\n         4.87704152e-02, -2.76960788e-01,  5.30628227e-01,\n        -5.79237811e-01,  4.03144233e-02],\n       [ 6.78463755e-03,  1.80784305e-05, -5.87614583e-05,\n        -1.21016716e-04,  1.86417250e-04, -2.95322992e-04,\n         2.14647349e-04,  4.78494252e-05, -1.54974300e-04,\n        -4.24234528e-04, -3.58728591e-04,  1.28206067e-01,\n         8.54220601e-02, -3.44546113e-01, -1.45972505e-01,\n         5.87518127e-02,  2.56335961e-01,  2.12992075e-01,\n         3.76214479e-01, -7.33690073e-02, -6.02009284e-01,\n        -4.54973355e-01,  7.30611054e-02],\n       [ 7.56725469e-03,  9.46698285e-05, -1.25879751e-04,\n        -1.11938560e-04, -6.58865753e-04, -2.78039977e-05,\n         6.25547203e-05, -7.65563708e-05, -1.53058003e-04,\n        -1.49188104e-05, -8.29997629e-05, -2.69483311e-01,\n         2.82463898e-01,  2.86801449e-01, -4.20317894e-01,\n        -8.90684849e-02,  2.13218937e-01, -3.60174856e-01,\n        -1.11429735e-01,  5.44656182e-01, -2.50800044e-02,\n        -3.08969973e-01,  1.82505207e-02],\n       [ 1.15467107e-03, -1.92534389e-05,  9.27740986e-05,\n        -1.73842157e-04,  8.72081468e-05, -1.81970641e-04,\n         1.90523421e-04, -3.55780861e-04,  1.76354652e-04,\n         3.23103388e-06, -1.09615755e-05, -3.06390355e-01,\n         5.77447191e-01, -4.03161595e-01,  1.74396991e-01,\n         9.39362740e-02, -1.36211028e-01, -4.41746367e-01,\n         3.02127399e-01, -1.48424287e-01,  5.36945556e-02,\n         2.02511799e-01, -1.52141772e-03],\n       [-2.77077165e-03, -1.65394456e-04,  9.46416588e-05,\n         1.07415995e-04, -2.46525465e-04, -2.58410276e-04,\n         1.57391838e-04,  3.07491175e-05, -1.06924850e-04,\n         3.11981711e-04, -1.85298853e-04,  1.45125616e-02,\n        -3.15495735e-02,  9.59831210e-02, -3.60772070e-01,\n         6.54515531e-01, -3.77930441e-01,  1.78107105e-02,\n        -4.11639001e-02,  1.38586577e-01, -3.73559629e-01,\n         3.56676927e-01, -1.45461775e-02]])"
     },
     "execution_count": 1380,
     "metadata": {},
     "output_type": "execute_result"
    }
   ],
   "source": [
    "pcs.components_"
   ],
   "metadata": {
    "collapsed": false
   }
  },
  {
   "cell_type": "code",
   "execution_count": 1381,
   "outputs": [
    {
     "data": {
      "text/plain": "          PC1       PC2       PC3       PC4       PC5       PC6       PC7\nX1  -0.015671  0.000289 -0.006559 -0.030108 -0.005035  0.004792 -0.043447\nX2  -0.009453  0.003186  0.003675  0.030246  0.004107 -0.002992 -0.217630\nX3   0.024024 -0.056455  0.117387  0.970725  0.062660  0.002155  0.181467\nX4  -0.003541  0.007984 -0.018371 -0.176918 -0.005338 -0.068606  0.940914\nX5  -0.000835 -0.003277  0.004176  0.048590 -0.000157  0.008831 -0.109081\nX6   0.428422 -0.486898  0.370701 -0.055879 -0.279038 -0.561585 -0.012491\nX7   0.479474 -0.460979  0.093153 -0.068670  0.116737  0.655939 -0.001576\nX8   0.448135 -0.030121 -0.646517  0.038603  0.492395 -0.187869  0.025422\nX9   0.399068  0.328251 -0.368910  0.088116 -0.564260 -0.138661 -0.068809\nX10  0.353956  0.458009  0.212660  0.007879 -0.275116  0.382308  0.105842\nX11  0.316641  0.478224  0.490273 -0.070981  0.517639 -0.220887 -0.060451\nX12 -0.000941 -0.003667  0.003252  0.000772 -0.002751 -0.002593 -0.005276\nX13 -0.000469 -0.003027  0.002170  0.000266 -0.002050 -0.004394 -0.005106\nX14 -0.000104 -0.002202  0.002306 -0.000342 -0.003039 -0.003740 -0.006207\nX15  0.000485 -0.001169  0.002434 -0.001527 -0.002189 -0.003175 -0.005952\nX16  0.000932 -0.000367  0.002705 -0.002106 -0.001439 -0.003616 -0.006341\nX17  0.001058 -0.000090  0.002461 -0.002041 -0.001659 -0.002917 -0.005464\nX18 -0.000659  0.000099 -0.000613 -0.000947  0.000227 -0.001125 -0.000877\nX19 -0.000758  0.000036  0.000041 -0.000954 -0.000931 -0.000171 -0.001133\nX20 -0.000603  0.000055  0.000037 -0.000952 -0.000082  0.000037 -0.000705\nX21 -0.000583  0.000023 -0.000070 -0.000934  0.000443  0.000036 -0.001092\nX22 -0.000556 -0.000275 -0.000295 -0.000894 -0.000196 -0.000016 -0.000761\nX23  0.001124  0.000979  0.001058 -0.001037  0.000432 -0.000567 -0.001531",
      "text/html": "<div>\n<style scoped>\n    .dataframe tbody tr th:only-of-type {\n        vertical-align: middle;\n    }\n\n    .dataframe tbody tr th {\n        vertical-align: top;\n    }\n\n    .dataframe thead th {\n        text-align: right;\n    }\n</style>\n<table border=\"1\" class=\"dataframe\">\n  <thead>\n    <tr style=\"text-align: right;\">\n      <th></th>\n      <th>PC1</th>\n      <th>PC2</th>\n      <th>PC3</th>\n      <th>PC4</th>\n      <th>PC5</th>\n      <th>PC6</th>\n      <th>PC7</th>\n    </tr>\n  </thead>\n  <tbody>\n    <tr>\n      <th>X1</th>\n      <td>-0.015671</td>\n      <td>0.000289</td>\n      <td>-0.006559</td>\n      <td>-0.030108</td>\n      <td>-0.005035</td>\n      <td>0.004792</td>\n      <td>-0.043447</td>\n    </tr>\n    <tr>\n      <th>X2</th>\n      <td>-0.009453</td>\n      <td>0.003186</td>\n      <td>0.003675</td>\n      <td>0.030246</td>\n      <td>0.004107</td>\n      <td>-0.002992</td>\n      <td>-0.217630</td>\n    </tr>\n    <tr>\n      <th>X3</th>\n      <td>0.024024</td>\n      <td>-0.056455</td>\n      <td>0.117387</td>\n      <td>0.970725</td>\n      <td>0.062660</td>\n      <td>0.002155</td>\n      <td>0.181467</td>\n    </tr>\n    <tr>\n      <th>X4</th>\n      <td>-0.003541</td>\n      <td>0.007984</td>\n      <td>-0.018371</td>\n      <td>-0.176918</td>\n      <td>-0.005338</td>\n      <td>-0.068606</td>\n      <td>0.940914</td>\n    </tr>\n    <tr>\n      <th>X5</th>\n      <td>-0.000835</td>\n      <td>-0.003277</td>\n      <td>0.004176</td>\n      <td>0.048590</td>\n      <td>-0.000157</td>\n      <td>0.008831</td>\n      <td>-0.109081</td>\n    </tr>\n    <tr>\n      <th>X6</th>\n      <td>0.428422</td>\n      <td>-0.486898</td>\n      <td>0.370701</td>\n      <td>-0.055879</td>\n      <td>-0.279038</td>\n      <td>-0.561585</td>\n      <td>-0.012491</td>\n    </tr>\n    <tr>\n      <th>X7</th>\n      <td>0.479474</td>\n      <td>-0.460979</td>\n      <td>0.093153</td>\n      <td>-0.068670</td>\n      <td>0.116737</td>\n      <td>0.655939</td>\n      <td>-0.001576</td>\n    </tr>\n    <tr>\n      <th>X8</th>\n      <td>0.448135</td>\n      <td>-0.030121</td>\n      <td>-0.646517</td>\n      <td>0.038603</td>\n      <td>0.492395</td>\n      <td>-0.187869</td>\n      <td>0.025422</td>\n    </tr>\n    <tr>\n      <th>X9</th>\n      <td>0.399068</td>\n      <td>0.328251</td>\n      <td>-0.368910</td>\n      <td>0.088116</td>\n      <td>-0.564260</td>\n      <td>-0.138661</td>\n      <td>-0.068809</td>\n    </tr>\n    <tr>\n      <th>X10</th>\n      <td>0.353956</td>\n      <td>0.458009</td>\n      <td>0.212660</td>\n      <td>0.007879</td>\n      <td>-0.275116</td>\n      <td>0.382308</td>\n      <td>0.105842</td>\n    </tr>\n    <tr>\n      <th>X11</th>\n      <td>0.316641</td>\n      <td>0.478224</td>\n      <td>0.490273</td>\n      <td>-0.070981</td>\n      <td>0.517639</td>\n      <td>-0.220887</td>\n      <td>-0.060451</td>\n    </tr>\n    <tr>\n      <th>X12</th>\n      <td>-0.000941</td>\n      <td>-0.003667</td>\n      <td>0.003252</td>\n      <td>0.000772</td>\n      <td>-0.002751</td>\n      <td>-0.002593</td>\n      <td>-0.005276</td>\n    </tr>\n    <tr>\n      <th>X13</th>\n      <td>-0.000469</td>\n      <td>-0.003027</td>\n      <td>0.002170</td>\n      <td>0.000266</td>\n      <td>-0.002050</td>\n      <td>-0.004394</td>\n      <td>-0.005106</td>\n    </tr>\n    <tr>\n      <th>X14</th>\n      <td>-0.000104</td>\n      <td>-0.002202</td>\n      <td>0.002306</td>\n      <td>-0.000342</td>\n      <td>-0.003039</td>\n      <td>-0.003740</td>\n      <td>-0.006207</td>\n    </tr>\n    <tr>\n      <th>X15</th>\n      <td>0.000485</td>\n      <td>-0.001169</td>\n      <td>0.002434</td>\n      <td>-0.001527</td>\n      <td>-0.002189</td>\n      <td>-0.003175</td>\n      <td>-0.005952</td>\n    </tr>\n    <tr>\n      <th>X16</th>\n      <td>0.000932</td>\n      <td>-0.000367</td>\n      <td>0.002705</td>\n      <td>-0.002106</td>\n      <td>-0.001439</td>\n      <td>-0.003616</td>\n      <td>-0.006341</td>\n    </tr>\n    <tr>\n      <th>X17</th>\n      <td>0.001058</td>\n      <td>-0.000090</td>\n      <td>0.002461</td>\n      <td>-0.002041</td>\n      <td>-0.001659</td>\n      <td>-0.002917</td>\n      <td>-0.005464</td>\n    </tr>\n    <tr>\n      <th>X18</th>\n      <td>-0.000659</td>\n      <td>0.000099</td>\n      <td>-0.000613</td>\n      <td>-0.000947</td>\n      <td>0.000227</td>\n      <td>-0.001125</td>\n      <td>-0.000877</td>\n    </tr>\n    <tr>\n      <th>X19</th>\n      <td>-0.000758</td>\n      <td>0.000036</td>\n      <td>0.000041</td>\n      <td>-0.000954</td>\n      <td>-0.000931</td>\n      <td>-0.000171</td>\n      <td>-0.001133</td>\n    </tr>\n    <tr>\n      <th>X20</th>\n      <td>-0.000603</td>\n      <td>0.000055</td>\n      <td>0.000037</td>\n      <td>-0.000952</td>\n      <td>-0.000082</td>\n      <td>0.000037</td>\n      <td>-0.000705</td>\n    </tr>\n    <tr>\n      <th>X21</th>\n      <td>-0.000583</td>\n      <td>0.000023</td>\n      <td>-0.000070</td>\n      <td>-0.000934</td>\n      <td>0.000443</td>\n      <td>0.000036</td>\n      <td>-0.001092</td>\n    </tr>\n    <tr>\n      <th>X22</th>\n      <td>-0.000556</td>\n      <td>-0.000275</td>\n      <td>-0.000295</td>\n      <td>-0.000894</td>\n      <td>-0.000196</td>\n      <td>-0.000016</td>\n      <td>-0.000761</td>\n    </tr>\n    <tr>\n      <th>X23</th>\n      <td>0.001124</td>\n      <td>0.000979</td>\n      <td>0.001058</td>\n      <td>-0.001037</td>\n      <td>0.000432</td>\n      <td>-0.000567</td>\n      <td>-0.001531</td>\n    </tr>\n  </tbody>\n</table>\n</div>"
     },
     "execution_count": 1381,
     "metadata": {},
     "output_type": "execute_result"
    }
   ],
   "source": [
    "pcsComponents_df = pd.DataFrame(pcs.components_.transpose(),\n",
    "                                columns=pcsSummary_df.columns,\n",
    "                                index=Cards_df.iloc[:, 1:].columns\n",
    "                                )\n",
    "pcsComponents_df.iloc[:,:7]"
   ],
   "metadata": {
    "collapsed": false
   }
  },
  {
   "cell_type": "code",
   "execution_count": 1382,
   "outputs": [
    {
     "data": {
      "text/plain": "          PC1       PC2       PC3       PC4       PC5       PC6       PC7  \\\nX1  -0.015671  0.000289 -0.006559 -0.030108 -0.005035  0.004792 -0.043447   \nX2  -0.009453  0.003186  0.003675  0.030246  0.004107 -0.002992 -0.217630   \nX3   0.024024 -0.056455  0.117387  0.970725  0.062660  0.002155  0.181467   \nX4  -0.003541  0.007984 -0.018371 -0.176918 -0.005338 -0.068606  0.940914   \nX5  -0.000835 -0.003277  0.004176  0.048590 -0.000157  0.008831 -0.109081   \nX6   0.428422 -0.486898  0.370701 -0.055879 -0.279038 -0.561585 -0.012491   \nX7   0.479474 -0.460979  0.093153 -0.068670  0.116737  0.655939 -0.001576   \nX8   0.448135 -0.030121 -0.646517  0.038603  0.492395 -0.187869  0.025422   \nX9   0.399068  0.328251 -0.368910  0.088116 -0.564260 -0.138661 -0.068809   \nX10  0.353956  0.458009  0.212660  0.007879 -0.275116  0.382308  0.105842   \nX11  0.316641  0.478224  0.490273 -0.070981  0.517639 -0.220887 -0.060451   \nX12 -0.000941 -0.003667  0.003252  0.000772 -0.002751 -0.002593 -0.005276   \nX13 -0.000469 -0.003027  0.002170  0.000266 -0.002050 -0.004394 -0.005106   \nX14 -0.000104 -0.002202  0.002306 -0.000342 -0.003039 -0.003740 -0.006207   \nX15  0.000485 -0.001169  0.002434 -0.001527 -0.002189 -0.003175 -0.005952   \nX16  0.000932 -0.000367  0.002705 -0.002106 -0.001439 -0.003616 -0.006341   \nX17  0.001058 -0.000090  0.002461 -0.002041 -0.001659 -0.002917 -0.005464   \nX18 -0.000659  0.000099 -0.000613 -0.000947  0.000227 -0.001125 -0.000877   \nX19 -0.000758  0.000036  0.000041 -0.000954 -0.000931 -0.000171 -0.001133   \nX20 -0.000603  0.000055  0.000037 -0.000952 -0.000082  0.000037 -0.000705   \nX21 -0.000583  0.000023 -0.000070 -0.000934  0.000443  0.000036 -0.001092   \nX22 -0.000556 -0.000275 -0.000295 -0.000894 -0.000196 -0.000016 -0.000761   \nX23  0.001124  0.000979  0.001058 -0.001037  0.000432 -0.000567 -0.001531   \n\n          PC8       PC9      PC10  ...      PC14      PC15      PC16  \\\nX1  -0.009053  0.007252  0.438209  ... -0.025545 -0.041271 -0.026167   \nX2   0.081359 -0.971178  0.013703  ...  0.000216  0.000645  0.000311   \nX3   0.030503 -0.008758  0.015533  ... -0.000232 -0.000302 -0.000394   \nX4   0.142489 -0.198630  0.055969  ... -0.000303 -0.000386 -0.000852   \nX5  -0.019606  0.066667  0.190422  ... -0.000411  0.001017 -0.000198   \nX6  -0.211694 -0.020556 -0.008239  ... -0.000119 -0.000293  0.000384   \nX7   0.316134  0.017421  0.008207  ...  0.000454 -0.000372  0.000027   \nX8  -0.314839 -0.035022  0.005352  ...  0.000488 -0.000118  0.000354   \nX9   0.493863  0.053324  0.004442  ... -0.000608 -0.000067  0.000465   \nX10 -0.616779 -0.078552  0.000910  ...  0.000629 -0.000177  0.000666   \nX11  0.321553  0.041589  0.006029  ...  0.000668 -0.001956  0.000725   \nX12 -0.003811  0.005141  0.390402  ... -0.158977  0.170945  0.269801   \nX13 -0.004840  0.004512  0.383872  ... -0.018245  0.037332  0.054835   \nX14 -0.003337  0.003980  0.374415  ...  0.503946 -0.232647 -0.195967   \nX15 -0.004342  0.003296  0.348789  ...  0.040405 -0.089101 -0.468933   \nX16 -0.003094  0.002721  0.325107  ... -0.208033 -0.000678 -0.013299   \nX17 -0.003012  0.002622  0.310709  ... -0.285855  0.035890  0.341950   \nX18 -0.001140  0.000229  0.024949  ...  0.185666  0.099198  0.165747   \nX19  0.000198  0.000399  0.029679  ...  0.728838 -0.014189  0.334955   \nX20 -0.000940  0.000554  0.025995  ...  0.072898  0.235221  0.111248   \nX21  0.000101  0.000348  0.020193  ...  0.011820  0.199091  0.389497   \nX22 -0.000222  0.000253  0.020820  ...  0.053317  0.154226  0.339244   \nX23  0.000404  0.000761  0.032599  ...  0.138496  0.880641 -0.359539   \n\n         PC17      PC18      PC19      PC20      PC21      PC22      PC23  \nX1  -0.014953  0.000032  0.004501  0.006785  0.007567  0.001155 -0.002771  \nX2   0.000352 -0.000200 -0.000201  0.000018  0.000095 -0.000019 -0.000165  \nX3   0.000006  0.000516  0.000169 -0.000059 -0.000126  0.000093  0.000095  \nX4  -0.000558 -0.000190  0.000585 -0.000121 -0.000112 -0.000174  0.000107  \nX5  -0.001341 -0.000688  0.000919  0.000186 -0.000659  0.000087 -0.000247  \nX6   0.000027 -0.000393  0.000003 -0.000295 -0.000028 -0.000182 -0.000258  \nX7   0.000715  0.001384  0.000167  0.000215  0.000063  0.000191  0.000157  \nX8  -0.000481 -0.001531 -0.000148  0.000048 -0.000077 -0.000356  0.000031  \nX9   0.001178  0.000281 -0.000075 -0.000155 -0.000153  0.000176 -0.000107  \nX10 -0.000246  0.000199  0.000502 -0.000424 -0.000015  0.000003  0.000312  \nX11  0.000932  0.000042 -0.000795 -0.000359 -0.000083 -0.000011 -0.000185  \nX12  0.055638 -0.433978 -0.041044  0.128206 -0.269483 -0.306390  0.014513  \nX13  0.094829  0.455530  0.064727  0.085422  0.282464  0.577447 -0.031550  \nX14 -0.297074  0.070046  0.008824 -0.344546  0.286801 -0.403162  0.095983  \nX15  0.365467 -0.103814 -0.210247 -0.145973 -0.420318  0.174397 -0.360772  \nX16  0.046613 -0.094342  0.423976  0.058752 -0.089068  0.093936  0.654516  \nX17 -0.317042  0.091865 -0.244079  0.256336  0.213219 -0.136211 -0.377930  \nX18  0.317393  0.664377  0.112682  0.212992 -0.360175 -0.441746  0.017811  \nX19 -0.002283 -0.283705  0.048770  0.376214 -0.111430  0.302127 -0.041164  \nX20  0.680750 -0.155675 -0.276961 -0.073369  0.544656 -0.148424  0.138587  \nX21  0.093323 -0.047512  0.530628 -0.602009 -0.025080  0.053695 -0.373560  \nX22 -0.159129  0.150005 -0.579238 -0.454973 -0.308970  0.202512  0.356677  \nX23 -0.254913  0.015762  0.040314  0.073061  0.018251 -0.001521 -0.014546  \n\n[23 rows x 23 columns]",
      "text/html": "<div>\n<style scoped>\n    .dataframe tbody tr th:only-of-type {\n        vertical-align: middle;\n    }\n\n    .dataframe tbody tr th {\n        vertical-align: top;\n    }\n\n    .dataframe thead th {\n        text-align: right;\n    }\n</style>\n<table border=\"1\" class=\"dataframe\">\n  <thead>\n    <tr style=\"text-align: right;\">\n      <th></th>\n      <th>PC1</th>\n      <th>PC2</th>\n      <th>PC3</th>\n      <th>PC4</th>\n      <th>PC5</th>\n      <th>PC6</th>\n      <th>PC7</th>\n      <th>PC8</th>\n      <th>PC9</th>\n      <th>PC10</th>\n      <th>...</th>\n      <th>PC14</th>\n      <th>PC15</th>\n      <th>PC16</th>\n      <th>PC17</th>\n      <th>PC18</th>\n      <th>PC19</th>\n      <th>PC20</th>\n      <th>PC21</th>\n      <th>PC22</th>\n      <th>PC23</th>\n    </tr>\n  </thead>\n  <tbody>\n    <tr>\n      <th>X1</th>\n      <td>-0.015671</td>\n      <td>0.000289</td>\n      <td>-0.006559</td>\n      <td>-0.030108</td>\n      <td>-0.005035</td>\n      <td>0.004792</td>\n      <td>-0.043447</td>\n      <td>-0.009053</td>\n      <td>0.007252</td>\n      <td>0.438209</td>\n      <td>...</td>\n      <td>-0.025545</td>\n      <td>-0.041271</td>\n      <td>-0.026167</td>\n      <td>-0.014953</td>\n      <td>0.000032</td>\n      <td>0.004501</td>\n      <td>0.006785</td>\n      <td>0.007567</td>\n      <td>0.001155</td>\n      <td>-0.002771</td>\n    </tr>\n    <tr>\n      <th>X2</th>\n      <td>-0.009453</td>\n      <td>0.003186</td>\n      <td>0.003675</td>\n      <td>0.030246</td>\n      <td>0.004107</td>\n      <td>-0.002992</td>\n      <td>-0.217630</td>\n      <td>0.081359</td>\n      <td>-0.971178</td>\n      <td>0.013703</td>\n      <td>...</td>\n      <td>0.000216</td>\n      <td>0.000645</td>\n      <td>0.000311</td>\n      <td>0.000352</td>\n      <td>-0.000200</td>\n      <td>-0.000201</td>\n      <td>0.000018</td>\n      <td>0.000095</td>\n      <td>-0.000019</td>\n      <td>-0.000165</td>\n    </tr>\n    <tr>\n      <th>X3</th>\n      <td>0.024024</td>\n      <td>-0.056455</td>\n      <td>0.117387</td>\n      <td>0.970725</td>\n      <td>0.062660</td>\n      <td>0.002155</td>\n      <td>0.181467</td>\n      <td>0.030503</td>\n      <td>-0.008758</td>\n      <td>0.015533</td>\n      <td>...</td>\n      <td>-0.000232</td>\n      <td>-0.000302</td>\n      <td>-0.000394</td>\n      <td>0.000006</td>\n      <td>0.000516</td>\n      <td>0.000169</td>\n      <td>-0.000059</td>\n      <td>-0.000126</td>\n      <td>0.000093</td>\n      <td>0.000095</td>\n    </tr>\n    <tr>\n      <th>X4</th>\n      <td>-0.003541</td>\n      <td>0.007984</td>\n      <td>-0.018371</td>\n      <td>-0.176918</td>\n      <td>-0.005338</td>\n      <td>-0.068606</td>\n      <td>0.940914</td>\n      <td>0.142489</td>\n      <td>-0.198630</td>\n      <td>0.055969</td>\n      <td>...</td>\n      <td>-0.000303</td>\n      <td>-0.000386</td>\n      <td>-0.000852</td>\n      <td>-0.000558</td>\n      <td>-0.000190</td>\n      <td>0.000585</td>\n      <td>-0.000121</td>\n      <td>-0.000112</td>\n      <td>-0.000174</td>\n      <td>0.000107</td>\n    </tr>\n    <tr>\n      <th>X5</th>\n      <td>-0.000835</td>\n      <td>-0.003277</td>\n      <td>0.004176</td>\n      <td>0.048590</td>\n      <td>-0.000157</td>\n      <td>0.008831</td>\n      <td>-0.109081</td>\n      <td>-0.019606</td>\n      <td>0.066667</td>\n      <td>0.190422</td>\n      <td>...</td>\n      <td>-0.000411</td>\n      <td>0.001017</td>\n      <td>-0.000198</td>\n      <td>-0.001341</td>\n      <td>-0.000688</td>\n      <td>0.000919</td>\n      <td>0.000186</td>\n      <td>-0.000659</td>\n      <td>0.000087</td>\n      <td>-0.000247</td>\n    </tr>\n    <tr>\n      <th>X6</th>\n      <td>0.428422</td>\n      <td>-0.486898</td>\n      <td>0.370701</td>\n      <td>-0.055879</td>\n      <td>-0.279038</td>\n      <td>-0.561585</td>\n      <td>-0.012491</td>\n      <td>-0.211694</td>\n      <td>-0.020556</td>\n      <td>-0.008239</td>\n      <td>...</td>\n      <td>-0.000119</td>\n      <td>-0.000293</td>\n      <td>0.000384</td>\n      <td>0.000027</td>\n      <td>-0.000393</td>\n      <td>0.000003</td>\n      <td>-0.000295</td>\n      <td>-0.000028</td>\n      <td>-0.000182</td>\n      <td>-0.000258</td>\n    </tr>\n    <tr>\n      <th>X7</th>\n      <td>0.479474</td>\n      <td>-0.460979</td>\n      <td>0.093153</td>\n      <td>-0.068670</td>\n      <td>0.116737</td>\n      <td>0.655939</td>\n      <td>-0.001576</td>\n      <td>0.316134</td>\n      <td>0.017421</td>\n      <td>0.008207</td>\n      <td>...</td>\n      <td>0.000454</td>\n      <td>-0.000372</td>\n      <td>0.000027</td>\n      <td>0.000715</td>\n      <td>0.001384</td>\n      <td>0.000167</td>\n      <td>0.000215</td>\n      <td>0.000063</td>\n      <td>0.000191</td>\n      <td>0.000157</td>\n    </tr>\n    <tr>\n      <th>X8</th>\n      <td>0.448135</td>\n      <td>-0.030121</td>\n      <td>-0.646517</td>\n      <td>0.038603</td>\n      <td>0.492395</td>\n      <td>-0.187869</td>\n      <td>0.025422</td>\n      <td>-0.314839</td>\n      <td>-0.035022</td>\n      <td>0.005352</td>\n      <td>...</td>\n      <td>0.000488</td>\n      <td>-0.000118</td>\n      <td>0.000354</td>\n      <td>-0.000481</td>\n      <td>-0.001531</td>\n      <td>-0.000148</td>\n      <td>0.000048</td>\n      <td>-0.000077</td>\n      <td>-0.000356</td>\n      <td>0.000031</td>\n    </tr>\n    <tr>\n      <th>X9</th>\n      <td>0.399068</td>\n      <td>0.328251</td>\n      <td>-0.368910</td>\n      <td>0.088116</td>\n      <td>-0.564260</td>\n      <td>-0.138661</td>\n      <td>-0.068809</td>\n      <td>0.493863</td>\n      <td>0.053324</td>\n      <td>0.004442</td>\n      <td>...</td>\n      <td>-0.000608</td>\n      <td>-0.000067</td>\n      <td>0.000465</td>\n      <td>0.001178</td>\n      <td>0.000281</td>\n      <td>-0.000075</td>\n      <td>-0.000155</td>\n      <td>-0.000153</td>\n      <td>0.000176</td>\n      <td>-0.000107</td>\n    </tr>\n    <tr>\n      <th>X10</th>\n      <td>0.353956</td>\n      <td>0.458009</td>\n      <td>0.212660</td>\n      <td>0.007879</td>\n      <td>-0.275116</td>\n      <td>0.382308</td>\n      <td>0.105842</td>\n      <td>-0.616779</td>\n      <td>-0.078552</td>\n      <td>0.000910</td>\n      <td>...</td>\n      <td>0.000629</td>\n      <td>-0.000177</td>\n      <td>0.000666</td>\n      <td>-0.000246</td>\n      <td>0.000199</td>\n      <td>0.000502</td>\n      <td>-0.000424</td>\n      <td>-0.000015</td>\n      <td>0.000003</td>\n      <td>0.000312</td>\n    </tr>\n    <tr>\n      <th>X11</th>\n      <td>0.316641</td>\n      <td>0.478224</td>\n      <td>0.490273</td>\n      <td>-0.070981</td>\n      <td>0.517639</td>\n      <td>-0.220887</td>\n      <td>-0.060451</td>\n      <td>0.321553</td>\n      <td>0.041589</td>\n      <td>0.006029</td>\n      <td>...</td>\n      <td>0.000668</td>\n      <td>-0.001956</td>\n      <td>0.000725</td>\n      <td>0.000932</td>\n      <td>0.000042</td>\n      <td>-0.000795</td>\n      <td>-0.000359</td>\n      <td>-0.000083</td>\n      <td>-0.000011</td>\n      <td>-0.000185</td>\n    </tr>\n    <tr>\n      <th>X12</th>\n      <td>-0.000941</td>\n      <td>-0.003667</td>\n      <td>0.003252</td>\n      <td>0.000772</td>\n      <td>-0.002751</td>\n      <td>-0.002593</td>\n      <td>-0.005276</td>\n      <td>-0.003811</td>\n      <td>0.005141</td>\n      <td>0.390402</td>\n      <td>...</td>\n      <td>-0.158977</td>\n      <td>0.170945</td>\n      <td>0.269801</td>\n      <td>0.055638</td>\n      <td>-0.433978</td>\n      <td>-0.041044</td>\n      <td>0.128206</td>\n      <td>-0.269483</td>\n      <td>-0.306390</td>\n      <td>0.014513</td>\n    </tr>\n    <tr>\n      <th>X13</th>\n      <td>-0.000469</td>\n      <td>-0.003027</td>\n      <td>0.002170</td>\n      <td>0.000266</td>\n      <td>-0.002050</td>\n      <td>-0.004394</td>\n      <td>-0.005106</td>\n      <td>-0.004840</td>\n      <td>0.004512</td>\n      <td>0.383872</td>\n      <td>...</td>\n      <td>-0.018245</td>\n      <td>0.037332</td>\n      <td>0.054835</td>\n      <td>0.094829</td>\n      <td>0.455530</td>\n      <td>0.064727</td>\n      <td>0.085422</td>\n      <td>0.282464</td>\n      <td>0.577447</td>\n      <td>-0.031550</td>\n    </tr>\n    <tr>\n      <th>X14</th>\n      <td>-0.000104</td>\n      <td>-0.002202</td>\n      <td>0.002306</td>\n      <td>-0.000342</td>\n      <td>-0.003039</td>\n      <td>-0.003740</td>\n      <td>-0.006207</td>\n      <td>-0.003337</td>\n      <td>0.003980</td>\n      <td>0.374415</td>\n      <td>...</td>\n      <td>0.503946</td>\n      <td>-0.232647</td>\n      <td>-0.195967</td>\n      <td>-0.297074</td>\n      <td>0.070046</td>\n      <td>0.008824</td>\n      <td>-0.344546</td>\n      <td>0.286801</td>\n      <td>-0.403162</td>\n      <td>0.095983</td>\n    </tr>\n    <tr>\n      <th>X15</th>\n      <td>0.000485</td>\n      <td>-0.001169</td>\n      <td>0.002434</td>\n      <td>-0.001527</td>\n      <td>-0.002189</td>\n      <td>-0.003175</td>\n      <td>-0.005952</td>\n      <td>-0.004342</td>\n      <td>0.003296</td>\n      <td>0.348789</td>\n      <td>...</td>\n      <td>0.040405</td>\n      <td>-0.089101</td>\n      <td>-0.468933</td>\n      <td>0.365467</td>\n      <td>-0.103814</td>\n      <td>-0.210247</td>\n      <td>-0.145973</td>\n      <td>-0.420318</td>\n      <td>0.174397</td>\n      <td>-0.360772</td>\n    </tr>\n    <tr>\n      <th>X16</th>\n      <td>0.000932</td>\n      <td>-0.000367</td>\n      <td>0.002705</td>\n      <td>-0.002106</td>\n      <td>-0.001439</td>\n      <td>-0.003616</td>\n      <td>-0.006341</td>\n      <td>-0.003094</td>\n      <td>0.002721</td>\n      <td>0.325107</td>\n      <td>...</td>\n      <td>-0.208033</td>\n      <td>-0.000678</td>\n      <td>-0.013299</td>\n      <td>0.046613</td>\n      <td>-0.094342</td>\n      <td>0.423976</td>\n      <td>0.058752</td>\n      <td>-0.089068</td>\n      <td>0.093936</td>\n      <td>0.654516</td>\n    </tr>\n    <tr>\n      <th>X17</th>\n      <td>0.001058</td>\n      <td>-0.000090</td>\n      <td>0.002461</td>\n      <td>-0.002041</td>\n      <td>-0.001659</td>\n      <td>-0.002917</td>\n      <td>-0.005464</td>\n      <td>-0.003012</td>\n      <td>0.002622</td>\n      <td>0.310709</td>\n      <td>...</td>\n      <td>-0.285855</td>\n      <td>0.035890</td>\n      <td>0.341950</td>\n      <td>-0.317042</td>\n      <td>0.091865</td>\n      <td>-0.244079</td>\n      <td>0.256336</td>\n      <td>0.213219</td>\n      <td>-0.136211</td>\n      <td>-0.377930</td>\n    </tr>\n    <tr>\n      <th>X18</th>\n      <td>-0.000659</td>\n      <td>0.000099</td>\n      <td>-0.000613</td>\n      <td>-0.000947</td>\n      <td>0.000227</td>\n      <td>-0.001125</td>\n      <td>-0.000877</td>\n      <td>-0.001140</td>\n      <td>0.000229</td>\n      <td>0.024949</td>\n      <td>...</td>\n      <td>0.185666</td>\n      <td>0.099198</td>\n      <td>0.165747</td>\n      <td>0.317393</td>\n      <td>0.664377</td>\n      <td>0.112682</td>\n      <td>0.212992</td>\n      <td>-0.360175</td>\n      <td>-0.441746</td>\n      <td>0.017811</td>\n    </tr>\n    <tr>\n      <th>X19</th>\n      <td>-0.000758</td>\n      <td>0.000036</td>\n      <td>0.000041</td>\n      <td>-0.000954</td>\n      <td>-0.000931</td>\n      <td>-0.000171</td>\n      <td>-0.001133</td>\n      <td>0.000198</td>\n      <td>0.000399</td>\n      <td>0.029679</td>\n      <td>...</td>\n      <td>0.728838</td>\n      <td>-0.014189</td>\n      <td>0.334955</td>\n      <td>-0.002283</td>\n      <td>-0.283705</td>\n      <td>0.048770</td>\n      <td>0.376214</td>\n      <td>-0.111430</td>\n      <td>0.302127</td>\n      <td>-0.041164</td>\n    </tr>\n    <tr>\n      <th>X20</th>\n      <td>-0.000603</td>\n      <td>0.000055</td>\n      <td>0.000037</td>\n      <td>-0.000952</td>\n      <td>-0.000082</td>\n      <td>0.000037</td>\n      <td>-0.000705</td>\n      <td>-0.000940</td>\n      <td>0.000554</td>\n      <td>0.025995</td>\n      <td>...</td>\n      <td>0.072898</td>\n      <td>0.235221</td>\n      <td>0.111248</td>\n      <td>0.680750</td>\n      <td>-0.155675</td>\n      <td>-0.276961</td>\n      <td>-0.073369</td>\n      <td>0.544656</td>\n      <td>-0.148424</td>\n      <td>0.138587</td>\n    </tr>\n    <tr>\n      <th>X21</th>\n      <td>-0.000583</td>\n      <td>0.000023</td>\n      <td>-0.000070</td>\n      <td>-0.000934</td>\n      <td>0.000443</td>\n      <td>0.000036</td>\n      <td>-0.001092</td>\n      <td>0.000101</td>\n      <td>0.000348</td>\n      <td>0.020193</td>\n      <td>...</td>\n      <td>0.011820</td>\n      <td>0.199091</td>\n      <td>0.389497</td>\n      <td>0.093323</td>\n      <td>-0.047512</td>\n      <td>0.530628</td>\n      <td>-0.602009</td>\n      <td>-0.025080</td>\n      <td>0.053695</td>\n      <td>-0.373560</td>\n    </tr>\n    <tr>\n      <th>X22</th>\n      <td>-0.000556</td>\n      <td>-0.000275</td>\n      <td>-0.000295</td>\n      <td>-0.000894</td>\n      <td>-0.000196</td>\n      <td>-0.000016</td>\n      <td>-0.000761</td>\n      <td>-0.000222</td>\n      <td>0.000253</td>\n      <td>0.020820</td>\n      <td>...</td>\n      <td>0.053317</td>\n      <td>0.154226</td>\n      <td>0.339244</td>\n      <td>-0.159129</td>\n      <td>0.150005</td>\n      <td>-0.579238</td>\n      <td>-0.454973</td>\n      <td>-0.308970</td>\n      <td>0.202512</td>\n      <td>0.356677</td>\n    </tr>\n    <tr>\n      <th>X23</th>\n      <td>0.001124</td>\n      <td>0.000979</td>\n      <td>0.001058</td>\n      <td>-0.001037</td>\n      <td>0.000432</td>\n      <td>-0.000567</td>\n      <td>-0.001531</td>\n      <td>0.000404</td>\n      <td>0.000761</td>\n      <td>0.032599</td>\n      <td>...</td>\n      <td>0.138496</td>\n      <td>0.880641</td>\n      <td>-0.359539</td>\n      <td>-0.254913</td>\n      <td>0.015762</td>\n      <td>0.040314</td>\n      <td>0.073061</td>\n      <td>0.018251</td>\n      <td>-0.001521</td>\n      <td>-0.014546</td>\n    </tr>\n  </tbody>\n</table>\n<p>23 rows × 23 columns</p>\n</div>"
     },
     "execution_count": 1382,
     "metadata": {},
     "output_type": "execute_result"
    }
   ],
   "source": [
    "pcsComponents_dfX = pd.DataFrame(pcs.components_.transpose(),\n",
    "                                columns = pcsSummary_df.columns,\n",
    "                                index = Cards_df.iloc[:, 1:].columns\n",
    "                                )\n",
    "pcsComponents_dfX"
   ],
   "metadata": {
    "collapsed": false
   }
  },
  {
   "cell_type": "code",
   "execution_count": 1383,
   "outputs": [],
   "source": [
    "from sklearn import preprocessing"
   ],
   "metadata": {
    "collapsed": false
   }
  },
  {
   "cell_type": "code",
   "execution_count": 1384,
   "outputs": [
    {
     "data": {
      "text/plain": "     X1   X2   X3   X4    X5   X6   X7   X8   X9  X10  ...    X14    X15  \\\n0  0.11  2.0  2.0  2.0  0.09 -1.0  2.0 -1.0 -1.0 -1.0  ... -0.007 -0.007   \n1  0.08  2.0  2.0  2.0  0.22 -1.0 -1.0 -1.0 -1.0 -1.0  ...  0.004  0.004   \n2  0.04  2.0  2.0  1.0  0.28 -1.0 -1.0 -1.0 -1.0 -1.0  ...  0.040  0.018   \n3  0.04  1.0  2.0  1.0  0.62 -1.0 -1.0 -1.0 -1.0 -1.0  ...  0.026  0.011   \n4  0.04  1.0  1.0  2.0  0.28 -1.0 -1.0 -1.0 -1.0 -1.0  ...  0.048  0.009   \n\n     X16    X17    X18    X19    X20    X21    X22    X23  \n0 -0.007 -0.007 -0.009 -0.009 -0.009 -0.009 -0.010 -0.008  \n1  0.005  0.006 -0.009 -0.009 -0.009 -0.009 -0.009 -0.005  \n2  0.019  0.020 -0.008 -0.008 -0.009 -0.009 -0.009 -0.009  \n3  0.009  0.009 -0.008  0.027  0.000 -0.001 -0.009 -0.009  \n4  0.010  0.010 -0.008 -0.008 -0.009 -0.009 -0.009 -0.009  \n\n[5 rows x 23 columns]",
      "text/html": "<div>\n<style scoped>\n    .dataframe tbody tr th:only-of-type {\n        vertical-align: middle;\n    }\n\n    .dataframe tbody tr th {\n        vertical-align: top;\n    }\n\n    .dataframe thead th {\n        text-align: right;\n    }\n</style>\n<table border=\"1\" class=\"dataframe\">\n  <thead>\n    <tr style=\"text-align: right;\">\n      <th></th>\n      <th>X1</th>\n      <th>X2</th>\n      <th>X3</th>\n      <th>X4</th>\n      <th>X5</th>\n      <th>X6</th>\n      <th>X7</th>\n      <th>X8</th>\n      <th>X9</th>\n      <th>X10</th>\n      <th>...</th>\n      <th>X14</th>\n      <th>X15</th>\n      <th>X16</th>\n      <th>X17</th>\n      <th>X18</th>\n      <th>X19</th>\n      <th>X20</th>\n      <th>X21</th>\n      <th>X22</th>\n      <th>X23</th>\n    </tr>\n  </thead>\n  <tbody>\n    <tr>\n      <th>0</th>\n      <td>0.11</td>\n      <td>2.0</td>\n      <td>2.0</td>\n      <td>2.0</td>\n      <td>0.09</td>\n      <td>-1.0</td>\n      <td>2.0</td>\n      <td>-1.0</td>\n      <td>-1.0</td>\n      <td>-1.0</td>\n      <td>...</td>\n      <td>-0.007</td>\n      <td>-0.007</td>\n      <td>-0.007</td>\n      <td>-0.007</td>\n      <td>-0.009</td>\n      <td>-0.009</td>\n      <td>-0.009</td>\n      <td>-0.009</td>\n      <td>-0.010</td>\n      <td>-0.008</td>\n    </tr>\n    <tr>\n      <th>1</th>\n      <td>0.08</td>\n      <td>2.0</td>\n      <td>2.0</td>\n      <td>2.0</td>\n      <td>0.22</td>\n      <td>-1.0</td>\n      <td>-1.0</td>\n      <td>-1.0</td>\n      <td>-1.0</td>\n      <td>-1.0</td>\n      <td>...</td>\n      <td>0.004</td>\n      <td>0.004</td>\n      <td>0.005</td>\n      <td>0.006</td>\n      <td>-0.009</td>\n      <td>-0.009</td>\n      <td>-0.009</td>\n      <td>-0.009</td>\n      <td>-0.009</td>\n      <td>-0.005</td>\n    </tr>\n    <tr>\n      <th>2</th>\n      <td>0.04</td>\n      <td>2.0</td>\n      <td>2.0</td>\n      <td>1.0</td>\n      <td>0.28</td>\n      <td>-1.0</td>\n      <td>-1.0</td>\n      <td>-1.0</td>\n      <td>-1.0</td>\n      <td>-1.0</td>\n      <td>...</td>\n      <td>0.040</td>\n      <td>0.018</td>\n      <td>0.019</td>\n      <td>0.020</td>\n      <td>-0.008</td>\n      <td>-0.008</td>\n      <td>-0.009</td>\n      <td>-0.009</td>\n      <td>-0.009</td>\n      <td>-0.009</td>\n    </tr>\n    <tr>\n      <th>3</th>\n      <td>0.04</td>\n      <td>1.0</td>\n      <td>2.0</td>\n      <td>1.0</td>\n      <td>0.62</td>\n      <td>-1.0</td>\n      <td>-1.0</td>\n      <td>-1.0</td>\n      <td>-1.0</td>\n      <td>-1.0</td>\n      <td>...</td>\n      <td>0.026</td>\n      <td>0.011</td>\n      <td>0.009</td>\n      <td>0.009</td>\n      <td>-0.008</td>\n      <td>0.027</td>\n      <td>0.000</td>\n      <td>-0.001</td>\n      <td>-0.009</td>\n      <td>-0.009</td>\n    </tr>\n    <tr>\n      <th>4</th>\n      <td>0.04</td>\n      <td>1.0</td>\n      <td>1.0</td>\n      <td>2.0</td>\n      <td>0.28</td>\n      <td>-1.0</td>\n      <td>-1.0</td>\n      <td>-1.0</td>\n      <td>-1.0</td>\n      <td>-1.0</td>\n      <td>...</td>\n      <td>0.048</td>\n      <td>0.009</td>\n      <td>0.010</td>\n      <td>0.010</td>\n      <td>-0.008</td>\n      <td>-0.008</td>\n      <td>-0.009</td>\n      <td>-0.009</td>\n      <td>-0.009</td>\n      <td>-0.009</td>\n    </tr>\n  </tbody>\n</table>\n<p>5 rows × 23 columns</p>\n</div>"
     },
     "execution_count": 1384,
     "metadata": {},
     "output_type": "execute_result"
    }
   ],
   "source": [
    "Cards_df.iloc[:, 1:].head()"
   ],
   "metadata": {
    "collapsed": false
   }
  },
  {
   "cell_type": "code",
   "execution_count": 1385,
   "outputs": [
    {
     "data": {
      "text/plain": "PCA()",
      "text/html": "<style>#sk-container-id-19 {color: black;background-color: white;}#sk-container-id-19 pre{padding: 0;}#sk-container-id-19 div.sk-toggleable {background-color: white;}#sk-container-id-19 label.sk-toggleable__label {cursor: pointer;display: block;width: 100%;margin-bottom: 0;padding: 0.3em;box-sizing: border-box;text-align: center;}#sk-container-id-19 label.sk-toggleable__label-arrow:before {content: \"▸\";float: left;margin-right: 0.25em;color: #696969;}#sk-container-id-19 label.sk-toggleable__label-arrow:hover:before {color: black;}#sk-container-id-19 div.sk-estimator:hover label.sk-toggleable__label-arrow:before {color: black;}#sk-container-id-19 div.sk-toggleable__content {max-height: 0;max-width: 0;overflow: hidden;text-align: left;background-color: #f0f8ff;}#sk-container-id-19 div.sk-toggleable__content pre {margin: 0.2em;color: black;border-radius: 0.25em;background-color: #f0f8ff;}#sk-container-id-19 input.sk-toggleable__control:checked~div.sk-toggleable__content {max-height: 200px;max-width: 100%;overflow: auto;}#sk-container-id-19 input.sk-toggleable__control:checked~label.sk-toggleable__label-arrow:before {content: \"▾\";}#sk-container-id-19 div.sk-estimator input.sk-toggleable__control:checked~label.sk-toggleable__label {background-color: #d4ebff;}#sk-container-id-19 div.sk-label input.sk-toggleable__control:checked~label.sk-toggleable__label {background-color: #d4ebff;}#sk-container-id-19 input.sk-hidden--visually {border: 0;clip: rect(1px 1px 1px 1px);clip: rect(1px, 1px, 1px, 1px);height: 1px;margin: -1px;overflow: hidden;padding: 0;position: absolute;width: 1px;}#sk-container-id-19 div.sk-estimator {font-family: monospace;background-color: #f0f8ff;border: 1px dotted black;border-radius: 0.25em;box-sizing: border-box;margin-bottom: 0.5em;}#sk-container-id-19 div.sk-estimator:hover {background-color: #d4ebff;}#sk-container-id-19 div.sk-parallel-item::after {content: \"\";width: 100%;border-bottom: 1px solid gray;flex-grow: 1;}#sk-container-id-19 div.sk-label:hover label.sk-toggleable__label {background-color: #d4ebff;}#sk-container-id-19 div.sk-serial::before {content: \"\";position: absolute;border-left: 1px solid gray;box-sizing: border-box;top: 0;bottom: 0;left: 50%;z-index: 0;}#sk-container-id-19 div.sk-serial {display: flex;flex-direction: column;align-items: center;background-color: white;padding-right: 0.2em;padding-left: 0.2em;position: relative;}#sk-container-id-19 div.sk-item {position: relative;z-index: 1;}#sk-container-id-19 div.sk-parallel {display: flex;align-items: stretch;justify-content: center;background-color: white;position: relative;}#sk-container-id-19 div.sk-item::before, #sk-container-id-19 div.sk-parallel-item::before {content: \"\";position: absolute;border-left: 1px solid gray;box-sizing: border-box;top: 0;bottom: 0;left: 50%;z-index: -1;}#sk-container-id-19 div.sk-parallel-item {display: flex;flex-direction: column;z-index: 1;position: relative;background-color: white;}#sk-container-id-19 div.sk-parallel-item:first-child::after {align-self: flex-end;width: 50%;}#sk-container-id-19 div.sk-parallel-item:last-child::after {align-self: flex-start;width: 50%;}#sk-container-id-19 div.sk-parallel-item:only-child::after {width: 0;}#sk-container-id-19 div.sk-dashed-wrapped {border: 1px dashed gray;margin: 0 0.4em 0.5em 0.4em;box-sizing: border-box;padding-bottom: 0.4em;background-color: white;}#sk-container-id-19 div.sk-label label {font-family: monospace;font-weight: bold;display: inline-block;line-height: 1.2em;}#sk-container-id-19 div.sk-label-container {text-align: center;}#sk-container-id-19 div.sk-container {/* jupyter's `normalize.less` sets `[hidden] { display: none; }` but bootstrap.min.css set `[hidden] { display: none !important; }` so we also need the `!important` here to be able to override the default hidden behavior on the sphinx rendered scikit-learn.org. See: https://github.com/scikit-learn/scikit-learn/issues/21755 */display: inline-block !important;position: relative;}#sk-container-id-19 div.sk-text-repr-fallback {display: none;}</style><div id=\"sk-container-id-19\" class=\"sk-top-container\"><div class=\"sk-text-repr-fallback\"><pre>PCA()</pre><b>In a Jupyter environment, please rerun this cell to show the HTML representation or trust the notebook. <br />On GitHub, the HTML representation is unable to render, please try loading this page with nbviewer.org.</b></div><div class=\"sk-container\" hidden><div class=\"sk-item\"><div class=\"sk-estimator sk-toggleable\"><input class=\"sk-toggleable__control sk-hidden--visually\" id=\"sk-estimator-id-19\" type=\"checkbox\" checked><label for=\"sk-estimator-id-19\" class=\"sk-toggleable__label sk-toggleable__label-arrow\">PCA</label><div class=\"sk-toggleable__content\"><pre>PCA()</pre></div></div></div></div></div>"
     },
     "execution_count": 1385,
     "metadata": {},
     "output_type": "execute_result"
    }
   ],
   "source": [
    "pcs = PCA()\n",
    "pcs.fit(preprocessing.scale(Cards_df.iloc[:, 1:].dropna(axis=0)))"
   ],
   "metadata": {
    "collapsed": false
   }
  },
  {
   "cell_type": "code",
   "execution_count": 1386,
   "outputs": [
    {
     "data": {
      "text/plain": "                           PC1     PC2     PC3     PC4     PC5     PC6  \\\nStandard deviation      2.4428  1.9524  1.2866  1.2326  1.0178  1.0015   \nProportion of variance  0.2594  0.1657  0.0720  0.0661  0.0450  0.0436   \nCumulative proportion   0.2594  0.4252  0.4971  0.5632  0.6082  0.6518   \n\n                           PC7     PC8     PC9    PC10  ...    PC14    PC15  \\\nStandard deviation      0.9632  0.9529  0.9295  0.9065  ...  0.7394  0.7288   \nProportion of variance  0.0403  0.0395  0.0376  0.0357  ...  0.0238  0.0231   \nCumulative proportion   0.6922  0.7316  0.7692  0.8049  ...  0.9206  0.9437   \n\n                          PC16    PC17    PC18    PC19    PC20    PC21  \\\nStandard deviation      0.6177  0.5138  0.5069  0.4566  0.2807  0.2159   \nProportion of variance  0.0166  0.0115  0.0112  0.0091  0.0034  0.0020   \nCumulative proportion   0.9603  0.9718  0.9829  0.9920  0.9954  0.9974   \n\n                          PC22    PC23  \nStandard deviation      0.1763  0.1663  \nProportion of variance  0.0014  0.0012  \nCumulative proportion   0.9988  1.0000  \n\n[3 rows x 23 columns]",
      "text/html": "<div>\n<style scoped>\n    .dataframe tbody tr th:only-of-type {\n        vertical-align: middle;\n    }\n\n    .dataframe tbody tr th {\n        vertical-align: top;\n    }\n\n    .dataframe thead th {\n        text-align: right;\n    }\n</style>\n<table border=\"1\" class=\"dataframe\">\n  <thead>\n    <tr style=\"text-align: right;\">\n      <th></th>\n      <th>PC1</th>\n      <th>PC2</th>\n      <th>PC3</th>\n      <th>PC4</th>\n      <th>PC5</th>\n      <th>PC6</th>\n      <th>PC7</th>\n      <th>PC8</th>\n      <th>PC9</th>\n      <th>PC10</th>\n      <th>...</th>\n      <th>PC14</th>\n      <th>PC15</th>\n      <th>PC16</th>\n      <th>PC17</th>\n      <th>PC18</th>\n      <th>PC19</th>\n      <th>PC20</th>\n      <th>PC21</th>\n      <th>PC22</th>\n      <th>PC23</th>\n    </tr>\n  </thead>\n  <tbody>\n    <tr>\n      <th>Standard deviation</th>\n      <td>2.4428</td>\n      <td>1.9524</td>\n      <td>1.2866</td>\n      <td>1.2326</td>\n      <td>1.0178</td>\n      <td>1.0015</td>\n      <td>0.9632</td>\n      <td>0.9529</td>\n      <td>0.9295</td>\n      <td>0.9065</td>\n      <td>...</td>\n      <td>0.7394</td>\n      <td>0.7288</td>\n      <td>0.6177</td>\n      <td>0.5138</td>\n      <td>0.5069</td>\n      <td>0.4566</td>\n      <td>0.2807</td>\n      <td>0.2159</td>\n      <td>0.1763</td>\n      <td>0.1663</td>\n    </tr>\n    <tr>\n      <th>Proportion of variance</th>\n      <td>0.2594</td>\n      <td>0.1657</td>\n      <td>0.0720</td>\n      <td>0.0661</td>\n      <td>0.0450</td>\n      <td>0.0436</td>\n      <td>0.0403</td>\n      <td>0.0395</td>\n      <td>0.0376</td>\n      <td>0.0357</td>\n      <td>...</td>\n      <td>0.0238</td>\n      <td>0.0231</td>\n      <td>0.0166</td>\n      <td>0.0115</td>\n      <td>0.0112</td>\n      <td>0.0091</td>\n      <td>0.0034</td>\n      <td>0.0020</td>\n      <td>0.0014</td>\n      <td>0.0012</td>\n    </tr>\n    <tr>\n      <th>Cumulative proportion</th>\n      <td>0.2594</td>\n      <td>0.4252</td>\n      <td>0.4971</td>\n      <td>0.5632</td>\n      <td>0.6082</td>\n      <td>0.6518</td>\n      <td>0.6922</td>\n      <td>0.7316</td>\n      <td>0.7692</td>\n      <td>0.8049</td>\n      <td>...</td>\n      <td>0.9206</td>\n      <td>0.9437</td>\n      <td>0.9603</td>\n      <td>0.9718</td>\n      <td>0.9829</td>\n      <td>0.9920</td>\n      <td>0.9954</td>\n      <td>0.9974</td>\n      <td>0.9988</td>\n      <td>1.0000</td>\n    </tr>\n  </tbody>\n</table>\n<p>3 rows × 23 columns</p>\n</div>"
     },
     "execution_count": 1386,
     "metadata": {},
     "output_type": "execute_result"
    }
   ],
   "source": [
    "pcsSummary_df = pd.DataFrame({'Standard deviation': np.sqrt(pcs.explained_variance_),\n",
    "                             'Proportion of variance': pcs.explained_variance_ratio_,\n",
    "                             'Cumulative proportion': np.cumsum(pcs.explained_variance_ratio_)\n",
    "                             })\n",
    "\n",
    "pcsSummary_df = pcsSummary_df.transpose()\n",
    "pcsSummary_df.columns = ['PC{}'.format(i) for i in range(1, len(pcsSummary_df.columns) + 1)]\n",
    "pcsSummary_df.round(4)"
   ],
   "metadata": {
    "collapsed": false
   }
  },
  {
   "cell_type": "code",
   "execution_count": 1387,
   "outputs": [
    {
     "data": {
      "text/plain": "0.6082188261759992"
     },
     "execution_count": 1387,
     "metadata": {},
     "output_type": "execute_result"
    }
   ],
   "source": [
    "pcsSummary_df.iloc[2,4]"
   ],
   "metadata": {
    "collapsed": false
   }
  },
  {
   "cell_type": "code",
   "execution_count": 1388,
   "outputs": [
    {
     "data": {
      "text/plain": "          PC1       PC2       PC3       PC4       PC5       PC6       PC7  \\\nX1   0.192093 -0.151407  0.242724  0.069657 -0.257640 -0.316949 -0.171331   \nX2  -0.007105 -0.026485 -0.012344 -0.067472  0.736664 -0.605057 -0.132971   \nX3  -0.016614  0.049012 -0.190508  0.387866  0.492209  0.359083  0.196112   \nX4  -0.023997 -0.006503  0.003071 -0.632679  0.018607  0.260115  0.062766   \nX5   0.041525 -0.007167  0.001487  0.657139 -0.187231 -0.019479 -0.005885   \nX6  -0.008251  0.387677  0.023734  0.018111  0.063733  0.169474 -0.420187   \nX7  -0.022229  0.411453  0.040667  0.016484  0.042461  0.140127 -0.411560   \nX8  -0.027199  0.409643  0.073310  0.003275  0.006238  0.040984 -0.161343   \nX9  -0.026698  0.409981  0.083963  0.001577 -0.030514 -0.090123  0.142922   \nX10 -0.022609  0.399775  0.088432 -0.011420 -0.060221 -0.169205  0.353519   \nX11 -0.021339  0.358085  0.086909 -0.025793 -0.061995 -0.197087  0.412173   \nX12  0.373170  0.029247 -0.189251 -0.020748 -0.015196 -0.002064 -0.016908   \nX13  0.382460  0.035816 -0.169844 -0.025543  0.005236  0.023467  0.001105   \nX14  0.386671  0.039691 -0.117139 -0.023513  0.035959  0.044692  0.008585   \nX15  0.389565  0.049838 -0.107430 -0.029385  0.016032  0.019956  0.041897   \nX16  0.385917  0.057031 -0.088932 -0.031369  0.009866 -0.005277  0.050823   \nX17  0.378148  0.057747 -0.072470 -0.032521 -0.000723 -0.020771 -0.012335   \nX18  0.126700 -0.055782  0.378910  0.012805  0.168395  0.229846  0.102821   \nX19  0.109093 -0.048681  0.408121  0.022399  0.207459  0.242197  0.058237   \nX20  0.122742 -0.048550  0.399442  0.024330  0.098621  0.151651  0.146306   \nX21  0.107838 -0.053060  0.374191  0.020075  0.069248  0.035413  0.072056   \nX22  0.107825 -0.051196  0.316580  0.016415 -0.026710 -0.071735 -0.410115   \nX23  0.111721  0.065544  0.248186  0.012708 -0.102150 -0.257954  0.098310   \n\n          PC8       PC9      PC10      PC11      PC12  \nX1   0.157081 -0.006551 -0.036098  0.013438  0.019536  \nX2   0.128760 -0.006046 -0.038210  0.031466  0.010702  \nX3  -0.400636 -0.038314  0.122648  0.064060 -0.041534  \nX4  -0.173068 -0.012979  0.052393  0.050777 -0.010321  \nX5   0.076672  0.031416 -0.006277  0.013486  0.006415  \nX6   0.040489 -0.152093 -0.129646 -0.019466  0.018450  \nX7   0.053510 -0.149840 -0.101709 -0.021075  0.024172  \nX8   0.080001 -0.026173 -0.006390  0.017014 -0.059688  \nX9   0.049647  0.115683  0.084770  0.009604 -0.003409  \nX10  0.017908  0.161826  0.135487  0.037718  0.023552  \nX11 -0.026088  0.129170  0.132899  0.009684  0.004756  \nX12 -0.018501 -0.021185  0.014274  0.001493 -0.007812  \nX13  0.019498  0.022022 -0.022068  0.005933 -0.110606  \nX14  0.012710  0.116474 -0.060664 -0.130709  0.044643  \nX15  0.036783  0.007598 -0.050737  0.070517  0.064451  \nX16  0.043127 -0.089178  0.062393 -0.006078  0.031824  \nX17 -0.030045  0.003247  0.133024  0.035731  0.025782  \nX18  0.263571  0.188710 -0.194944  0.088370 -0.759473  \nX19  0.075074  0.378275 -0.213440 -0.514884  0.465969  \nX20  0.108474 -0.242233 -0.116758  0.703477  0.393217  \nX21  0.053307 -0.599029  0.544956 -0.371503 -0.077164  \nX22 -0.468647  0.445759  0.456758  0.209106 -0.045917  \nX23 -0.658554 -0.278091 -0.526954 -0.127675 -0.125807  ",
      "text/html": "<div>\n<style scoped>\n    .dataframe tbody tr th:only-of-type {\n        vertical-align: middle;\n    }\n\n    .dataframe tbody tr th {\n        vertical-align: top;\n    }\n\n    .dataframe thead th {\n        text-align: right;\n    }\n</style>\n<table border=\"1\" class=\"dataframe\">\n  <thead>\n    <tr style=\"text-align: right;\">\n      <th></th>\n      <th>PC1</th>\n      <th>PC2</th>\n      <th>PC3</th>\n      <th>PC4</th>\n      <th>PC5</th>\n      <th>PC6</th>\n      <th>PC7</th>\n      <th>PC8</th>\n      <th>PC9</th>\n      <th>PC10</th>\n      <th>PC11</th>\n      <th>PC12</th>\n    </tr>\n  </thead>\n  <tbody>\n    <tr>\n      <th>X1</th>\n      <td>0.192093</td>\n      <td>-0.151407</td>\n      <td>0.242724</td>\n      <td>0.069657</td>\n      <td>-0.257640</td>\n      <td>-0.316949</td>\n      <td>-0.171331</td>\n      <td>0.157081</td>\n      <td>-0.006551</td>\n      <td>-0.036098</td>\n      <td>0.013438</td>\n      <td>0.019536</td>\n    </tr>\n    <tr>\n      <th>X2</th>\n      <td>-0.007105</td>\n      <td>-0.026485</td>\n      <td>-0.012344</td>\n      <td>-0.067472</td>\n      <td>0.736664</td>\n      <td>-0.605057</td>\n      <td>-0.132971</td>\n      <td>0.128760</td>\n      <td>-0.006046</td>\n      <td>-0.038210</td>\n      <td>0.031466</td>\n      <td>0.010702</td>\n    </tr>\n    <tr>\n      <th>X3</th>\n      <td>-0.016614</td>\n      <td>0.049012</td>\n      <td>-0.190508</td>\n      <td>0.387866</td>\n      <td>0.492209</td>\n      <td>0.359083</td>\n      <td>0.196112</td>\n      <td>-0.400636</td>\n      <td>-0.038314</td>\n      <td>0.122648</td>\n      <td>0.064060</td>\n      <td>-0.041534</td>\n    </tr>\n    <tr>\n      <th>X4</th>\n      <td>-0.023997</td>\n      <td>-0.006503</td>\n      <td>0.003071</td>\n      <td>-0.632679</td>\n      <td>0.018607</td>\n      <td>0.260115</td>\n      <td>0.062766</td>\n      <td>-0.173068</td>\n      <td>-0.012979</td>\n      <td>0.052393</td>\n      <td>0.050777</td>\n      <td>-0.010321</td>\n    </tr>\n    <tr>\n      <th>X5</th>\n      <td>0.041525</td>\n      <td>-0.007167</td>\n      <td>0.001487</td>\n      <td>0.657139</td>\n      <td>-0.187231</td>\n      <td>-0.019479</td>\n      <td>-0.005885</td>\n      <td>0.076672</td>\n      <td>0.031416</td>\n      <td>-0.006277</td>\n      <td>0.013486</td>\n      <td>0.006415</td>\n    </tr>\n    <tr>\n      <th>X6</th>\n      <td>-0.008251</td>\n      <td>0.387677</td>\n      <td>0.023734</td>\n      <td>0.018111</td>\n      <td>0.063733</td>\n      <td>0.169474</td>\n      <td>-0.420187</td>\n      <td>0.040489</td>\n      <td>-0.152093</td>\n      <td>-0.129646</td>\n      <td>-0.019466</td>\n      <td>0.018450</td>\n    </tr>\n    <tr>\n      <th>X7</th>\n      <td>-0.022229</td>\n      <td>0.411453</td>\n      <td>0.040667</td>\n      <td>0.016484</td>\n      <td>0.042461</td>\n      <td>0.140127</td>\n      <td>-0.411560</td>\n      <td>0.053510</td>\n      <td>-0.149840</td>\n      <td>-0.101709</td>\n      <td>-0.021075</td>\n      <td>0.024172</td>\n    </tr>\n    <tr>\n      <th>X8</th>\n      <td>-0.027199</td>\n      <td>0.409643</td>\n      <td>0.073310</td>\n      <td>0.003275</td>\n      <td>0.006238</td>\n      <td>0.040984</td>\n      <td>-0.161343</td>\n      <td>0.080001</td>\n      <td>-0.026173</td>\n      <td>-0.006390</td>\n      <td>0.017014</td>\n      <td>-0.059688</td>\n    </tr>\n    <tr>\n      <th>X9</th>\n      <td>-0.026698</td>\n      <td>0.409981</td>\n      <td>0.083963</td>\n      <td>0.001577</td>\n      <td>-0.030514</td>\n      <td>-0.090123</td>\n      <td>0.142922</td>\n      <td>0.049647</td>\n      <td>0.115683</td>\n      <td>0.084770</td>\n      <td>0.009604</td>\n      <td>-0.003409</td>\n    </tr>\n    <tr>\n      <th>X10</th>\n      <td>-0.022609</td>\n      <td>0.399775</td>\n      <td>0.088432</td>\n      <td>-0.011420</td>\n      <td>-0.060221</td>\n      <td>-0.169205</td>\n      <td>0.353519</td>\n      <td>0.017908</td>\n      <td>0.161826</td>\n      <td>0.135487</td>\n      <td>0.037718</td>\n      <td>0.023552</td>\n    </tr>\n    <tr>\n      <th>X11</th>\n      <td>-0.021339</td>\n      <td>0.358085</td>\n      <td>0.086909</td>\n      <td>-0.025793</td>\n      <td>-0.061995</td>\n      <td>-0.197087</td>\n      <td>0.412173</td>\n      <td>-0.026088</td>\n      <td>0.129170</td>\n      <td>0.132899</td>\n      <td>0.009684</td>\n      <td>0.004756</td>\n    </tr>\n    <tr>\n      <th>X12</th>\n      <td>0.373170</td>\n      <td>0.029247</td>\n      <td>-0.189251</td>\n      <td>-0.020748</td>\n      <td>-0.015196</td>\n      <td>-0.002064</td>\n      <td>-0.016908</td>\n      <td>-0.018501</td>\n      <td>-0.021185</td>\n      <td>0.014274</td>\n      <td>0.001493</td>\n      <td>-0.007812</td>\n    </tr>\n    <tr>\n      <th>X13</th>\n      <td>0.382460</td>\n      <td>0.035816</td>\n      <td>-0.169844</td>\n      <td>-0.025543</td>\n      <td>0.005236</td>\n      <td>0.023467</td>\n      <td>0.001105</td>\n      <td>0.019498</td>\n      <td>0.022022</td>\n      <td>-0.022068</td>\n      <td>0.005933</td>\n      <td>-0.110606</td>\n    </tr>\n    <tr>\n      <th>X14</th>\n      <td>0.386671</td>\n      <td>0.039691</td>\n      <td>-0.117139</td>\n      <td>-0.023513</td>\n      <td>0.035959</td>\n      <td>0.044692</td>\n      <td>0.008585</td>\n      <td>0.012710</td>\n      <td>0.116474</td>\n      <td>-0.060664</td>\n      <td>-0.130709</td>\n      <td>0.044643</td>\n    </tr>\n    <tr>\n      <th>X15</th>\n      <td>0.389565</td>\n      <td>0.049838</td>\n      <td>-0.107430</td>\n      <td>-0.029385</td>\n      <td>0.016032</td>\n      <td>0.019956</td>\n      <td>0.041897</td>\n      <td>0.036783</td>\n      <td>0.007598</td>\n      <td>-0.050737</td>\n      <td>0.070517</td>\n      <td>0.064451</td>\n    </tr>\n    <tr>\n      <th>X16</th>\n      <td>0.385917</td>\n      <td>0.057031</td>\n      <td>-0.088932</td>\n      <td>-0.031369</td>\n      <td>0.009866</td>\n      <td>-0.005277</td>\n      <td>0.050823</td>\n      <td>0.043127</td>\n      <td>-0.089178</td>\n      <td>0.062393</td>\n      <td>-0.006078</td>\n      <td>0.031824</td>\n    </tr>\n    <tr>\n      <th>X17</th>\n      <td>0.378148</td>\n      <td>0.057747</td>\n      <td>-0.072470</td>\n      <td>-0.032521</td>\n      <td>-0.000723</td>\n      <td>-0.020771</td>\n      <td>-0.012335</td>\n      <td>-0.030045</td>\n      <td>0.003247</td>\n      <td>0.133024</td>\n      <td>0.035731</td>\n      <td>0.025782</td>\n    </tr>\n    <tr>\n      <th>X18</th>\n      <td>0.126700</td>\n      <td>-0.055782</td>\n      <td>0.378910</td>\n      <td>0.012805</td>\n      <td>0.168395</td>\n      <td>0.229846</td>\n      <td>0.102821</td>\n      <td>0.263571</td>\n      <td>0.188710</td>\n      <td>-0.194944</td>\n      <td>0.088370</td>\n      <td>-0.759473</td>\n    </tr>\n    <tr>\n      <th>X19</th>\n      <td>0.109093</td>\n      <td>-0.048681</td>\n      <td>0.408121</td>\n      <td>0.022399</td>\n      <td>0.207459</td>\n      <td>0.242197</td>\n      <td>0.058237</td>\n      <td>0.075074</td>\n      <td>0.378275</td>\n      <td>-0.213440</td>\n      <td>-0.514884</td>\n      <td>0.465969</td>\n    </tr>\n    <tr>\n      <th>X20</th>\n      <td>0.122742</td>\n      <td>-0.048550</td>\n      <td>0.399442</td>\n      <td>0.024330</td>\n      <td>0.098621</td>\n      <td>0.151651</td>\n      <td>0.146306</td>\n      <td>0.108474</td>\n      <td>-0.242233</td>\n      <td>-0.116758</td>\n      <td>0.703477</td>\n      <td>0.393217</td>\n    </tr>\n    <tr>\n      <th>X21</th>\n      <td>0.107838</td>\n      <td>-0.053060</td>\n      <td>0.374191</td>\n      <td>0.020075</td>\n      <td>0.069248</td>\n      <td>0.035413</td>\n      <td>0.072056</td>\n      <td>0.053307</td>\n      <td>-0.599029</td>\n      <td>0.544956</td>\n      <td>-0.371503</td>\n      <td>-0.077164</td>\n    </tr>\n    <tr>\n      <th>X22</th>\n      <td>0.107825</td>\n      <td>-0.051196</td>\n      <td>0.316580</td>\n      <td>0.016415</td>\n      <td>-0.026710</td>\n      <td>-0.071735</td>\n      <td>-0.410115</td>\n      <td>-0.468647</td>\n      <td>0.445759</td>\n      <td>0.456758</td>\n      <td>0.209106</td>\n      <td>-0.045917</td>\n    </tr>\n    <tr>\n      <th>X23</th>\n      <td>0.111721</td>\n      <td>0.065544</td>\n      <td>0.248186</td>\n      <td>0.012708</td>\n      <td>-0.102150</td>\n      <td>-0.257954</td>\n      <td>0.098310</td>\n      <td>-0.658554</td>\n      <td>-0.278091</td>\n      <td>-0.526954</td>\n      <td>-0.127675</td>\n      <td>-0.125807</td>\n    </tr>\n  </tbody>\n</table>\n</div>"
     },
     "execution_count": 1388,
     "metadata": {},
     "output_type": "execute_result"
    }
   ],
   "source": [
    "pcsComponents_df = pd.DataFrame(pcs.components_.transpose(),\n",
    "                                columns=pcsSummary_df.columns,\n",
    "                                index=Cards_df.iloc[:, 1:].columns\n",
    "                                )\n",
    "pcsComponents_df.iloc[:,:12]"
   ],
   "metadata": {
    "collapsed": false
   }
  },
  {
   "cell_type": "code",
   "execution_count": 1389,
   "outputs": [
    {
     "data": {
      "text/plain": "'X15'"
     },
     "execution_count": 1389,
     "metadata": {},
     "output_type": "execute_result"
    }
   ],
   "source": [
    "pcsComponents_df.PC1.idxmax()"
   ],
   "metadata": {
    "collapsed": false
   }
  },
  {
   "cell_type": "code",
   "execution_count": 1390,
   "outputs": [
    {
     "data": {
      "text/plain": "X15    0.389565\nX14    0.386671\nX16    0.385917\nName: PC1, dtype: float64"
     },
     "execution_count": 1390,
     "metadata": {},
     "output_type": "execute_result"
    }
   ],
   "source": [
    "pcsComponents_df.PC1.nlargest(3)"
   ],
   "metadata": {
    "collapsed": false
   }
  },
  {
   "cell_type": "code",
   "execution_count": 1391,
   "outputs": [
    {
     "data": {
      "text/plain": "'X1'"
     },
     "execution_count": 1391,
     "metadata": {},
     "output_type": "execute_result"
    }
   ],
   "source": [
    "pcsComponents_df.PC2.idxmin()"
   ],
   "metadata": {
    "collapsed": false
   }
  },
  {
   "cell_type": "code",
   "execution_count": 1392,
   "outputs": [
    {
     "data": {
      "text/plain": "X1    -0.151407\nX18   -0.055782\nX21   -0.053060\nName: PC2, dtype: float64"
     },
     "execution_count": 1392,
     "metadata": {},
     "output_type": "execute_result"
    }
   ],
   "source": [
    "pcsComponents_df.PC2.nsmallest(3)"
   ],
   "metadata": {
    "collapsed": false
   }
  },
  {
   "cell_type": "code",
   "execution_count": 1393,
   "outputs": [
    {
     "name": "stdout",
     "output_type": "stream",
     "text": [
      "******************************************************* End *******************************************************\n"
     ]
    }
   ],
   "source": [
    "print('*'*55,'End','*'*55)"
   ],
   "metadata": {
    "collapsed": false
   }
  },
  {
   "cell_type": "code",
   "execution_count": 1393,
   "outputs": [],
   "source": [],
   "metadata": {
    "collapsed": false
   }
  },
  {
   "cell_type": "markdown",
   "source": [
    "### Parte 2: Responde las siguientes preguntas en una celda de texto en Jupyter Notebook\n",
    "\n",
    "* ¿Cuál es el número de componentes mínimo y por qué?\n",
    "\n",
    "* ¿Cuál es la variación de los datos que representan esos componentes?\n",
    "\n",
    "* ¿Cuál es la pérdida de información después de realizar PCA?\n",
    "De las variables originales, ¿Cuál tiene mayor y cuál tiene menor importancia en los componentes principales?\n",
    "\n",
    "* ¿Cuándo se recomienda realizar un PCA y qué beneficios ofrece para Machine Learning?\n",
    "*"
   ],
   "metadata": {
    "collapsed": false
   }
  },
  {
   "cell_type": "markdown",
   "source": [],
   "metadata": {
    "collapsed": false
   }
  }
 ],
 "metadata": {
  "kernelspec": {
   "display_name": "Python 3",
   "language": "python",
   "name": "python3"
  },
  "language_info": {
   "codemirror_mode": {
    "name": "ipython",
    "version": 2
   },
   "file_extension": ".py",
   "mimetype": "text/x-python",
   "name": "python",
   "nbconvert_exporter": "python",
   "pygments_lexer": "ipython2",
   "version": "2.7.6"
  }
 },
 "nbformat": 4,
 "nbformat_minor": 0
}
